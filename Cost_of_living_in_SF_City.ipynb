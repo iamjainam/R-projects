{
  "nbformat": 4,
  "nbformat_minor": 0,
  "metadata": {
    "colab": {
      "provenance": [],
      "collapsed_sections": [
        "O6YK3L1uHIJG",
        "Fv8P9iDbsA30"
      ],
      "authorship_tag": "ABX9TyNiCcmUywZV37dmNkgK3uV6",
      "include_colab_link": true
    },
    "kernelspec": {
      "name": "ir",
      "display_name": "R"
    },
    "language_info": {
      "name": "R"
    }
  },
  "cells": [
    {
      "cell_type": "markdown",
      "metadata": {
        "id": "view-in-github",
        "colab_type": "text"
      },
      "source": [
        "<a href=\"https://colab.research.google.com/github/jainam-shah1/R-projects/blob/main/Cost_of_living_in_SF_City\" target=\"_parent\"><img src=\"https://colab.research.google.com/assets/colab-badge.svg\" alt=\"Open In Colab\"/></a>"
      ]
    },
    {
      "cell_type": "markdown",
      "source": [
        "# Report on cost of living in San Francisco\n",
        "##By Jainam Bhaveshkumar Shah"
      ],
      "metadata": {
        "id": "jXfslIInlfYD"
      }
    },
    {
      "cell_type": "markdown",
      "source": [
        "##Objective\n",
        "<br>Using the dataset below I aim to analyse the insights regarding the income in San Francisco city.</br>\n",
        "<br>This dataset is obtained from the San francisco controller's office and it contains salary and benefits paid to City employees from 2013 to 2020.</br>\n",
        "<br>By using this dataset we will be able to depict the cost of living in this modernized city.</br>"
      ],
      "metadata": {
        "id": "LIblBOy0neN_"
      }
    },
    {
      "cell_type": "markdown",
      "source": [
        "##Data exploration"
      ],
      "metadata": {
        "id": "pBmuOe5Fv6hV"
      }
    },
    {
      "cell_type": "markdown",
      "source": [
        "- Import and read the dataset.\n",
        "- Then print the top 6 columns of the dataset"
      ],
      "metadata": {
        "id": "dWiAof_vnAyE"
      }
    },
    {
      "cell_type": "code",
      "execution_count": null,
      "metadata": {
        "colab": {
          "base_uri": "https://localhost:8080/",
          "height": 619
        },
        "id": "5TQ5xAfq1GBz",
        "outputId": "e216c104-3643-47f5-e530-2d52ed2a0b28"
      },
      "outputs": [
        {
          "output_type": "display_data",
          "data": {
            "text/html": [
              "<table class=\"dataframe\">\n",
              "<caption>A data.frame: 6 × 22</caption>\n",
              "<thead>\n",
              "\t<tr><th></th><th scope=col>Organization.Group.Code</th><th scope=col>Job.Family.Code</th><th scope=col>Job.Code</th><th scope=col>Year.Type</th><th scope=col>Year</th><th scope=col>Organization.Group</th><th scope=col>Department.Code</th><th scope=col>Department</th><th scope=col>Union.Code</th><th scope=col>Union</th><th scope=col>⋯</th><th scope=col>Employee.Identifier</th><th scope=col>Salaries</th><th scope=col>Overtime</th><th scope=col>Other.Salaries</th><th scope=col>Total.Salary</th><th scope=col>Retirement</th><th scope=col>Health.and.Dental</th><th scope=col>Other.Benefits</th><th scope=col>Total.Benefits</th><th scope=col>Total.Compensation</th></tr>\n",
              "\t<tr><th></th><th scope=col>&lt;int&gt;</th><th scope=col>&lt;chr&gt;</th><th scope=col>&lt;chr&gt;</th><th scope=col>&lt;chr&gt;</th><th scope=col>&lt;int&gt;</th><th scope=col>&lt;chr&gt;</th><th scope=col>&lt;chr&gt;</th><th scope=col>&lt;chr&gt;</th><th scope=col>&lt;int&gt;</th><th scope=col>&lt;chr&gt;</th><th scope=col>⋯</th><th scope=col>&lt;int&gt;</th><th scope=col>&lt;dbl&gt;</th><th scope=col>&lt;dbl&gt;</th><th scope=col>&lt;dbl&gt;</th><th scope=col>&lt;dbl&gt;</th><th scope=col>&lt;dbl&gt;</th><th scope=col>&lt;dbl&gt;</th><th scope=col>&lt;dbl&gt;</th><th scope=col>&lt;dbl&gt;</th><th scope=col>&lt;dbl&gt;</th></tr>\n",
              "</thead>\n",
              "<tbody>\n",
              "\t<tr><th scope=row>1</th><td>1</td><td>1000</td><td>1021</td><td>Calendar</td><td>2013</td><td>Public Protection</td><td>ADP</td><td>ADP Adult Probation</td><td>21</td><td>Prof &amp; Tech Engineers - Miscellaneous, Local 21</td><td>⋯</td><td>37730</td><td> 57534.65</td><td>0</td><td><span style=white-space:pre-wrap>    0.00</span></td><td>57534.65</td><td>11253.16</td><td>11961.34</td><td>4532.63</td><td>27747.13</td><td> 85281.78</td></tr>\n",
              "\t<tr><th scope=row>2</th><td>1</td><td>1000</td><td>1023</td><td>Calendar</td><td>2013</td><td>Public Protection</td><td>ADP</td><td>ADP Adult Probation</td><td>21</td><td>Prof &amp; Tech Engineers - Miscellaneous, Local 21</td><td>⋯</td><td>26574</td><td> 57678.50</td><td>0</td><td><span style=white-space:pre-wrap>    0.00</span></td><td>57678.50</td><td>10284.88</td><td> 7176.80</td><td>4755.14</td><td>22216.82</td><td> 79895.32</td></tr>\n",
              "\t<tr><th scope=row>3</th><td>1</td><td>1000</td><td>1031</td><td>Calendar</td><td>2013</td><td>Public Protection</td><td>ADP</td><td>ADP Adult Probation</td><td>21</td><td>Prof &amp; Tech Engineers - Miscellaneous, Local 21</td><td>⋯</td><td> 8148</td><td> 63532.93</td><td>0</td><td><span style=white-space:pre-wrap>    0.00</span></td><td>63532.93</td><td>12495.83</td><td>12918.24</td><td>4702.71</td><td>30116.78</td><td> 93649.71</td></tr>\n",
              "\t<tr><th scope=row>4</th><td>1</td><td>1000</td><td>1054</td><td>Calendar</td><td>2013</td><td>Public Protection</td><td>ADP</td><td>ADP Adult Probation</td><td>21</td><td>Prof &amp; Tech Engineers - Miscellaneous, Local 21</td><td>⋯</td><td>27436</td><td>101274.51</td><td>0</td><td>-7058.59</td><td>94215.92</td><td>19644.45</td><td>12918.24</td><td>7458.76</td><td>40021.45</td><td>134237.37</td></tr>\n",
              "\t<tr><th scope=row>5</th><td>1</td><td>1000</td><td>1062</td><td>Calendar</td><td>2013</td><td>Public Protection</td><td>ADP</td><td>ADP Adult Probation</td><td>21</td><td>Prof &amp; Tech Engineers - Miscellaneous, Local 21</td><td>⋯</td><td>37730</td><td><span style=white-space:pre-wrap>  5084.00</span></td><td>0</td><td><span style=white-space:pre-wrap>    0.00</span></td><td> 5084.00</td><td> 1083.90</td><td><span style=white-space:pre-wrap>  956.91</span></td><td> 387.50</td><td> 2428.31</td><td><span style=white-space:pre-wrap>  7512.31</span></td></tr>\n",
              "\t<tr><th scope=row>6</th><td>1</td><td>1000</td><td>1064</td><td>Calendar</td><td>2013</td><td>Public Protection</td><td>ADP</td><td>ADP Adult Probation</td><td>21</td><td>Prof &amp; Tech Engineers - Miscellaneous, Local 21</td><td>⋯</td><td>36223</td><td> 34456.00</td><td>0</td><td><span style=white-space:pre-wrap>    0.00</span></td><td>34456.00</td><td> 7346.00</td><td> 3827.63</td><td>2579.95</td><td>13753.58</td><td> 48209.58</td></tr>\n",
              "</tbody>\n",
              "</table>\n"
            ],
            "text/markdown": "\nA data.frame: 6 × 22\n\n| <!--/--> | Organization.Group.Code &lt;int&gt; | Job.Family.Code &lt;chr&gt; | Job.Code &lt;chr&gt; | Year.Type &lt;chr&gt; | Year &lt;int&gt; | Organization.Group &lt;chr&gt; | Department.Code &lt;chr&gt; | Department &lt;chr&gt; | Union.Code &lt;int&gt; | Union &lt;chr&gt; | ⋯ ⋯ | Employee.Identifier &lt;int&gt; | Salaries &lt;dbl&gt; | Overtime &lt;dbl&gt; | Other.Salaries &lt;dbl&gt; | Total.Salary &lt;dbl&gt; | Retirement &lt;dbl&gt; | Health.and.Dental &lt;dbl&gt; | Other.Benefits &lt;dbl&gt; | Total.Benefits &lt;dbl&gt; | Total.Compensation &lt;dbl&gt; |\n|---|---|---|---|---|---|---|---|---|---|---|---|---|---|---|---|---|---|---|---|---|---|\n| 1 | 1 | 1000 | 1021 | Calendar | 2013 | Public Protection | ADP | ADP Adult Probation | 21 | Prof &amp; Tech Engineers - Miscellaneous, Local 21 | ⋯ | 37730 |  57534.65 | 0 |     0.00 | 57534.65 | 11253.16 | 11961.34 | 4532.63 | 27747.13 |  85281.78 |\n| 2 | 1 | 1000 | 1023 | Calendar | 2013 | Public Protection | ADP | ADP Adult Probation | 21 | Prof &amp; Tech Engineers - Miscellaneous, Local 21 | ⋯ | 26574 |  57678.50 | 0 |     0.00 | 57678.50 | 10284.88 |  7176.80 | 4755.14 | 22216.82 |  79895.32 |\n| 3 | 1 | 1000 | 1031 | Calendar | 2013 | Public Protection | ADP | ADP Adult Probation | 21 | Prof &amp; Tech Engineers - Miscellaneous, Local 21 | ⋯ |  8148 |  63532.93 | 0 |     0.00 | 63532.93 | 12495.83 | 12918.24 | 4702.71 | 30116.78 |  93649.71 |\n| 4 | 1 | 1000 | 1054 | Calendar | 2013 | Public Protection | ADP | ADP Adult Probation | 21 | Prof &amp; Tech Engineers - Miscellaneous, Local 21 | ⋯ | 27436 | 101274.51 | 0 | -7058.59 | 94215.92 | 19644.45 | 12918.24 | 7458.76 | 40021.45 | 134237.37 |\n| 5 | 1 | 1000 | 1062 | Calendar | 2013 | Public Protection | ADP | ADP Adult Probation | 21 | Prof &amp; Tech Engineers - Miscellaneous, Local 21 | ⋯ | 37730 |   5084.00 | 0 |     0.00 |  5084.00 |  1083.90 |   956.91 |  387.50 |  2428.31 |   7512.31 |\n| 6 | 1 | 1000 | 1064 | Calendar | 2013 | Public Protection | ADP | ADP Adult Probation | 21 | Prof &amp; Tech Engineers - Miscellaneous, Local 21 | ⋯ | 36223 |  34456.00 | 0 |     0.00 | 34456.00 |  7346.00 |  3827.63 | 2579.95 | 13753.58 |  48209.58 |\n\n",
            "text/latex": "A data.frame: 6 × 22\n\\begin{tabular}{r|lllllllllllllllllllll}\n  & Organization.Group.Code & Job.Family.Code & Job.Code & Year.Type & Year & Organization.Group & Department.Code & Department & Union.Code & Union & ⋯ & Employee.Identifier & Salaries & Overtime & Other.Salaries & Total.Salary & Retirement & Health.and.Dental & Other.Benefits & Total.Benefits & Total.Compensation\\\\\n  & <int> & <chr> & <chr> & <chr> & <int> & <chr> & <chr> & <chr> & <int> & <chr> & ⋯ & <int> & <dbl> & <dbl> & <dbl> & <dbl> & <dbl> & <dbl> & <dbl> & <dbl> & <dbl>\\\\\n\\hline\n\t1 & 1 & 1000 & 1021 & Calendar & 2013 & Public Protection & ADP & ADP Adult Probation & 21 & Prof \\& Tech Engineers - Miscellaneous, Local 21 & ⋯ & 37730 &  57534.65 & 0 &     0.00 & 57534.65 & 11253.16 & 11961.34 & 4532.63 & 27747.13 &  85281.78\\\\\n\t2 & 1 & 1000 & 1023 & Calendar & 2013 & Public Protection & ADP & ADP Adult Probation & 21 & Prof \\& Tech Engineers - Miscellaneous, Local 21 & ⋯ & 26574 &  57678.50 & 0 &     0.00 & 57678.50 & 10284.88 &  7176.80 & 4755.14 & 22216.82 &  79895.32\\\\\n\t3 & 1 & 1000 & 1031 & Calendar & 2013 & Public Protection & ADP & ADP Adult Probation & 21 & Prof \\& Tech Engineers - Miscellaneous, Local 21 & ⋯ &  8148 &  63532.93 & 0 &     0.00 & 63532.93 & 12495.83 & 12918.24 & 4702.71 & 30116.78 &  93649.71\\\\\n\t4 & 1 & 1000 & 1054 & Calendar & 2013 & Public Protection & ADP & ADP Adult Probation & 21 & Prof \\& Tech Engineers - Miscellaneous, Local 21 & ⋯ & 27436 & 101274.51 & 0 & -7058.59 & 94215.92 & 19644.45 & 12918.24 & 7458.76 & 40021.45 & 134237.37\\\\\n\t5 & 1 & 1000 & 1062 & Calendar & 2013 & Public Protection & ADP & ADP Adult Probation & 21 & Prof \\& Tech Engineers - Miscellaneous, Local 21 & ⋯ & 37730 &   5084.00 & 0 &     0.00 &  5084.00 &  1083.90 &   956.91 &  387.50 &  2428.31 &   7512.31\\\\\n\t6 & 1 & 1000 & 1064 & Calendar & 2013 & Public Protection & ADP & ADP Adult Probation & 21 & Prof \\& Tech Engineers - Miscellaneous, Local 21 & ⋯ & 36223 &  34456.00 & 0 &     0.00 & 34456.00 &  7346.00 &  3827.63 & 2579.95 & 13753.58 &  48209.58\\\\\n\\end{tabular}\n",
            "text/plain": [
              "  Organization.Group.Code Job.Family.Code Job.Code Year.Type Year\n",
              "1 1                       1000            1021     Calendar  2013\n",
              "2 1                       1000            1023     Calendar  2013\n",
              "3 1                       1000            1031     Calendar  2013\n",
              "4 1                       1000            1054     Calendar  2013\n",
              "5 1                       1000            1062     Calendar  2013\n",
              "6 1                       1000            1064     Calendar  2013\n",
              "  Organization.Group Department.Code Department          Union.Code\n",
              "1 Public Protection  ADP             ADP Adult Probation 21        \n",
              "2 Public Protection  ADP             ADP Adult Probation 21        \n",
              "3 Public Protection  ADP             ADP Adult Probation 21        \n",
              "4 Public Protection  ADP             ADP Adult Probation 21        \n",
              "5 Public Protection  ADP             ADP Adult Probation 21        \n",
              "6 Public Protection  ADP             ADP Adult Probation 21        \n",
              "  Union                                           ⋯ Employee.Identifier\n",
              "1 Prof & Tech Engineers - Miscellaneous, Local 21 ⋯ 37730              \n",
              "2 Prof & Tech Engineers - Miscellaneous, Local 21 ⋯ 26574              \n",
              "3 Prof & Tech Engineers - Miscellaneous, Local 21 ⋯  8148              \n",
              "4 Prof & Tech Engineers - Miscellaneous, Local 21 ⋯ 27436              \n",
              "5 Prof & Tech Engineers - Miscellaneous, Local 21 ⋯ 37730              \n",
              "6 Prof & Tech Engineers - Miscellaneous, Local 21 ⋯ 36223              \n",
              "  Salaries  Overtime Other.Salaries Total.Salary Retirement Health.and.Dental\n",
              "1  57534.65 0            0.00       57534.65     11253.16   11961.34         \n",
              "2  57678.50 0            0.00       57678.50     10284.88    7176.80         \n",
              "3  63532.93 0            0.00       63532.93     12495.83   12918.24         \n",
              "4 101274.51 0        -7058.59       94215.92     19644.45   12918.24         \n",
              "5   5084.00 0            0.00        5084.00      1083.90     956.91         \n",
              "6  34456.00 0            0.00       34456.00      7346.00    3827.63         \n",
              "  Other.Benefits Total.Benefits Total.Compensation\n",
              "1 4532.63        27747.13        85281.78         \n",
              "2 4755.14        22216.82        79895.32         \n",
              "3 4702.71        30116.78        93649.71         \n",
              "4 7458.76        40021.45       134237.37         \n",
              "5  387.50         2428.31         7512.31         \n",
              "6 2579.95        13753.58        48209.58         "
            ]
          },
          "metadata": {}
        }
      ],
      "source": [
        "df <- read.csv(\"/content/employee-compensation.csv\",row.names = NULL, \n",
        "                 stringsAsFactors = FALSE)\n",
        "head(df)"
      ]
    },
    {
      "cell_type": "markdown",
      "source": [
        "- It states that this dataset has 683277 rows and 22 columns"
      ],
      "metadata": {
        "id": "jbLwqkt5bIDS"
      }
    },
    {
      "cell_type": "code",
      "source": [
        "dim(df)"
      ],
      "metadata": {
        "colab": {
          "base_uri": "https://localhost:8080/",
          "height": 34
        },
        "id": "eMM0ovDTZffC",
        "outputId": "3511a3a9-bf83-45d9-f0f1-5b113e7977b4"
      },
      "execution_count": null,
      "outputs": [
        {
          "output_type": "display_data",
          "data": {
            "text/html": [
              "<style>\n",
              ".list-inline {list-style: none; margin:0; padding: 0}\n",
              ".list-inline>li {display: inline-block}\n",
              ".list-inline>li:not(:last-child)::after {content: \"\\00b7\"; padding: 0 .5ex}\n",
              "</style>\n",
              "<ol class=list-inline><li>683277</li><li>22</li></ol>\n"
            ],
            "text/markdown": "1. 683277\n2. 22\n\n\n",
            "text/latex": "\\begin{enumerate*}\n\\item 683277\n\\item 22\n\\end{enumerate*}\n",
            "text/plain": [
              "[1] 683277     22"
            ]
          },
          "metadata": {}
        }
      ]
    },
    {
      "cell_type": "markdown",
      "source": [
        "- This prints the summary of each column such as: min, max, quaterile range, mean, median, length and also NA values"
      ],
      "metadata": {
        "id": "TrTy8migawNy"
      }
    },
    {
      "cell_type": "code",
      "source": [
        "summary(df)"
      ],
      "metadata": {
        "colab": {
          "base_uri": "https://localhost:8080/",
          "height": 850
        },
        "id": "_nhdz-EmaDK_",
        "outputId": "1a2189cc-d528-45c6-b468-e7133f26a570"
      },
      "execution_count": null,
      "outputs": [
        {
          "output_type": "display_data",
          "data": {
            "text/plain": [
              " Organization.Group.Code Job.Family.Code      Job.Code        \n",
              " Min.   :1.000           Length:683277      Length:683277     \n",
              " 1st Qu.:2.000           Class :character   Class :character  \n",
              " Median :2.000           Mode  :character   Mode  :character  \n",
              " Mean   :2.978                                                \n",
              " 3rd Qu.:4.000                                                \n",
              " Max.   :7.000                                                \n",
              "                                                              \n",
              "  Year.Type              Year      Organization.Group Department.Code   \n",
              " Length:683277      Min.   :2013   Length:683277      Length:683277     \n",
              " Class :character   1st Qu.:2015   Class :character   Class :character  \n",
              " Mode  :character   Median :2017   Mode  :character   Mode  :character  \n",
              "                    Mean   :2016                                        \n",
              "                    3rd Qu.:2018                                        \n",
              "                    Max.   :2020                                        \n",
              "                                                                        \n",
              "  Department          Union.Code       Union            Job.Family       \n",
              " Length:683277      Min.   :  1.0   Length:683277      Length:683277     \n",
              " Class :character   1st Qu.:250.0   Class :character   Class :character  \n",
              " Mode  :character   Median :535.0   Mode  :character   Mode  :character  \n",
              "                    Mean   :492.5                                        \n",
              "                    3rd Qu.:790.0                                        \n",
              "                    Max.   :990.0                                        \n",
              "                    NA's   :351                                          \n",
              "     Job            Employee.Identifier    Salaries         Overtime     \n",
              " Length:683277      Min.   :       0    Min.   :-68772   Min.   :-12309  \n",
              " Class :character   1st Qu.:   25450    1st Qu.: 29010   1st Qu.:     0  \n",
              " Mode  :character   Median :   50975    Median : 67899   Median :     0  \n",
              "                    Mean   :17087113    Mean   : 69466   Mean   :  5475  \n",
              "                    3rd Qu.:37377031    3rd Qu.:100417   3rd Qu.:  4223  \n",
              "                    Max.   :44346433    Max.   :651937   Max.   :321523  \n",
              "                                                                         \n",
              " Other.Salaries      Total.Salary      Retirement     Health.and.Dental\n",
              " Min.   :-19131.1   Min.   :-68772   Min.   :-30621   Min.   :-3831    \n",
              " 1st Qu.:     0.0   1st Qu.: 31676   1st Qu.:  4663   1st Qu.: 4781    \n",
              " Median :   706.2   Median : 74870   Median : 13858   Median :12501    \n",
              " Mean   :  3820.5   Mean   : 78571   Mean   : 13659   Mean   : 9947    \n",
              " 3rd Qu.:  4362.9   3rd Qu.:112666   3rd Qu.: 20152   3rd Qu.:14037    \n",
              " Max.   :568163.1   Max.   :658868   Max.   :121953   Max.   :59405    \n",
              "                                                                       \n",
              " Other.Benefits   Total.Benefits   Total.Compensation\n",
              " Min.   :-10636   Min.   :-21295   Min.   :-74083    \n",
              " 1st Qu.:  1870   1st Qu.: 11716   1st Qu.: 44439    \n",
              " Median :  4877   Median : 32521   Median :107529    \n",
              " Mean   :  5039   Mean   : 28645   Mean   :107216    \n",
              " 3rd Qu.:  7526   3rd Qu.: 40916   3rd Qu.:154170    \n",
              " Max.   : 36815   Max.   :151645   Max.   :807625    \n",
              "                                                     "
            ]
          },
          "metadata": {}
        }
      ]
    },
    {
      "cell_type": "markdown",
      "source": [
        "- Total number of NA values in the dataset"
      ],
      "metadata": {
        "id": "QVuj1KCwaqwu"
      }
    },
    {
      "cell_type": "code",
      "source": [
        "sum(is.na(df))"
      ],
      "metadata": {
        "id": "mFqJkOWhC8pj",
        "colab": {
          "base_uri": "https://localhost:8080/",
          "height": 34
        },
        "outputId": "6645657e-3a61-4910-8bbc-eebf0c131143"
      },
      "execution_count": null,
      "outputs": [
        {
          "output_type": "display_data",
          "data": {
            "text/html": [
              "351"
            ],
            "text/markdown": "351",
            "text/latex": "351",
            "text/plain": [
              "[1] 351"
            ]
          },
          "metadata": {}
        }
      ]
    },
    {
      "cell_type": "markdown",
      "source": [
        "- Total number of NA values in each column."
      ],
      "metadata": {
        "id": "37VUpC9mje9-"
      }
    },
    {
      "cell_type": "code",
      "source": [
        "sapply(df, function(x) \n",
        "            sum(is.na(x)))"
      ],
      "metadata": {
        "colab": {
          "base_uri": "https://localhost:8080/",
          "height": 69
        },
        "id": "SjcToJazXVXA",
        "outputId": "afa1e4b7-d19d-4066-ffcf-42dd51200fc1"
      },
      "execution_count": null,
      "outputs": [
        {
          "output_type": "display_data",
          "data": {
            "text/html": [
              "<style>\n",
              ".dl-inline {width: auto; margin:0; padding: 0}\n",
              ".dl-inline>dt, .dl-inline>dd {float: none; width: auto; display: inline-block}\n",
              ".dl-inline>dt::after {content: \":\\0020\"; padding-right: .5ex}\n",
              ".dl-inline>dt:not(:first-of-type) {padding-left: .5ex}\n",
              "</style><dl class=dl-inline><dt>Organization.Group.Code</dt><dd>0</dd><dt>Job.Family.Code</dt><dd>0</dd><dt>Job.Code</dt><dd>0</dd><dt>Year.Type</dt><dd>0</dd><dt>Year</dt><dd>0</dd><dt>Organization.Group</dt><dd>0</dd><dt>Department.Code</dt><dd>0</dd><dt>Department</dt><dd>0</dd><dt>Union.Code</dt><dd>351</dd><dt>Union</dt><dd>0</dd><dt>Job.Family</dt><dd>0</dd><dt>Job</dt><dd>0</dd><dt>Employee.Identifier</dt><dd>0</dd><dt>Salaries</dt><dd>0</dd><dt>Overtime</dt><dd>0</dd><dt>Other.Salaries</dt><dd>0</dd><dt>Total.Salary</dt><dd>0</dd><dt>Retirement</dt><dd>0</dd><dt>Health.and.Dental</dt><dd>0</dd><dt>Other.Benefits</dt><dd>0</dd><dt>Total.Benefits</dt><dd>0</dd><dt>Total.Compensation</dt><dd>0</dd></dl>\n"
            ],
            "text/markdown": "Organization.Group.Code\n:   0Job.Family.Code\n:   0Job.Code\n:   0Year.Type\n:   0Year\n:   0Organization.Group\n:   0Department.Code\n:   0Department\n:   0Union.Code\n:   351Union\n:   0Job.Family\n:   0Job\n:   0Employee.Identifier\n:   0Salaries\n:   0Overtime\n:   0Other.Salaries\n:   0Total.Salary\n:   0Retirement\n:   0Health.and.Dental\n:   0Other.Benefits\n:   0Total.Benefits\n:   0Total.Compensation\n:   0\n\n",
            "text/latex": "\\begin{description*}\n\\item[Organization.Group.Code] 0\n\\item[Job.Family.Code] 0\n\\item[Job.Code] 0\n\\item[Year.Type] 0\n\\item[Year] 0\n\\item[Organization.Group] 0\n\\item[Department.Code] 0\n\\item[Department] 0\n\\item[Union.Code] 351\n\\item[Union] 0\n\\item[Job.Family] 0\n\\item[Job] 0\n\\item[Employee.Identifier] 0\n\\item[Salaries] 0\n\\item[Overtime] 0\n\\item[Other.Salaries] 0\n\\item[Total.Salary] 0\n\\item[Retirement] 0\n\\item[Health.and.Dental] 0\n\\item[Other.Benefits] 0\n\\item[Total.Benefits] 0\n\\item[Total.Compensation] 0\n\\end{description*}\n",
            "text/plain": [
              "Organization.Group.Code         Job.Family.Code                Job.Code \n",
              "                      0                       0                       0 \n",
              "              Year.Type                    Year      Organization.Group \n",
              "                      0                       0                       0 \n",
              "        Department.Code              Department              Union.Code \n",
              "                      0                       0                     351 \n",
              "                  Union              Job.Family                     Job \n",
              "                      0                       0                       0 \n",
              "    Employee.Identifier                Salaries                Overtime \n",
              "                      0                       0                       0 \n",
              "         Other.Salaries            Total.Salary              Retirement \n",
              "                      0                       0                       0 \n",
              "      Health.and.Dental          Other.Benefits          Total.Benefits \n",
              "                      0                       0                       0 \n",
              "     Total.Compensation \n",
              "                      0 "
            ]
          },
          "metadata": {}
        }
      ]
    },
    {
      "cell_type": "markdown",
      "source": [
        "- Delete column union code which contains 351 null values"
      ],
      "metadata": {
        "id": "_JGsKTeciUGS"
      }
    },
    {
      "cell_type": "code",
      "source": [
        "df = subset(df, select = -c(Union.Code) )\n"
      ],
      "metadata": {
        "id": "egbmnqY9iAif"
      },
      "execution_count": null,
      "outputs": []
    },
    {
      "cell_type": "markdown",
      "source": [
        "- Print out column names"
      ],
      "metadata": {
        "id": "pnpRCnSqWISS"
      }
    },
    {
      "cell_type": "code",
      "source": [
        "colnames(df)"
      ],
      "metadata": {
        "id": "ineILyU0XVRN",
        "colab": {
          "base_uri": "https://localhost:8080/",
          "height": 52
        },
        "outputId": "9a0505f0-b517-4360-adb5-5a9f8775d8c6"
      },
      "execution_count": null,
      "outputs": [
        {
          "output_type": "display_data",
          "data": {
            "text/html": [
              "<style>\n",
              ".list-inline {list-style: none; margin:0; padding: 0}\n",
              ".list-inline>li {display: inline-block}\n",
              ".list-inline>li:not(:last-child)::after {content: \"\\00b7\"; padding: 0 .5ex}\n",
              "</style>\n",
              "<ol class=list-inline><li>'Organization.Group.Code'</li><li>'Job.Family.Code'</li><li>'Job.Code'</li><li>'Year.Type'</li><li>'Year'</li><li>'Organization.Group'</li><li>'Department.Code'</li><li>'Department'</li><li>'Union'</li><li>'Job.Family'</li><li>'Job'</li><li>'Employee.Identifier'</li><li>'Salaries'</li><li>'Overtime'</li><li>'Other.Salaries'</li><li>'Total.Salary'</li><li>'Retirement'</li><li>'Health.and.Dental'</li><li>'Other.Benefits'</li><li>'Total.Benefits'</li><li>'Total.Compensation'</li></ol>\n"
            ],
            "text/markdown": "1. 'Organization.Group.Code'\n2. 'Job.Family.Code'\n3. 'Job.Code'\n4. 'Year.Type'\n5. 'Year'\n6. 'Organization.Group'\n7. 'Department.Code'\n8. 'Department'\n9. 'Union'\n10. 'Job.Family'\n11. 'Job'\n12. 'Employee.Identifier'\n13. 'Salaries'\n14. 'Overtime'\n15. 'Other.Salaries'\n16. 'Total.Salary'\n17. 'Retirement'\n18. 'Health.and.Dental'\n19. 'Other.Benefits'\n20. 'Total.Benefits'\n21. 'Total.Compensation'\n\n\n",
            "text/latex": "\\begin{enumerate*}\n\\item 'Organization.Group.Code'\n\\item 'Job.Family.Code'\n\\item 'Job.Code'\n\\item 'Year.Type'\n\\item 'Year'\n\\item 'Organization.Group'\n\\item 'Department.Code'\n\\item 'Department'\n\\item 'Union'\n\\item 'Job.Family'\n\\item 'Job'\n\\item 'Employee.Identifier'\n\\item 'Salaries'\n\\item 'Overtime'\n\\item 'Other.Salaries'\n\\item 'Total.Salary'\n\\item 'Retirement'\n\\item 'Health.and.Dental'\n\\item 'Other.Benefits'\n\\item 'Total.Benefits'\n\\item 'Total.Compensation'\n\\end{enumerate*}\n",
            "text/plain": [
              " [1] \"Organization.Group.Code\" \"Job.Family.Code\"        \n",
              " [3] \"Job.Code\"                \"Year.Type\"              \n",
              " [5] \"Year\"                    \"Organization.Group\"     \n",
              " [7] \"Department.Code\"         \"Department\"             \n",
              " [9] \"Union\"                   \"Job.Family\"             \n",
              "[11] \"Job\"                     \"Employee.Identifier\"    \n",
              "[13] \"Salaries\"                \"Overtime\"               \n",
              "[15] \"Other.Salaries\"          \"Total.Salary\"           \n",
              "[17] \"Retirement\"              \"Health.and.Dental\"      \n",
              "[19] \"Other.Benefits\"          \"Total.Benefits\"         \n",
              "[21] \"Total.Compensation\"     "
            ]
          },
          "metadata": {}
        }
      ]
    },
    {
      "cell_type": "markdown",
      "source": [
        "- After deleting the union code column from the data set there are no more NA values."
      ],
      "metadata": {
        "id": "H02LFaXDWNh0"
      }
    },
    {
      "cell_type": "code",
      "source": [
        "sum(is.na(df))"
      ],
      "metadata": {
        "colab": {
          "base_uri": "https://localhost:8080/",
          "height": 34
        },
        "id": "xe7dhYi7iSJx",
        "outputId": "b0e03b21-2a3c-4cf7-eaed-db198cf88af8"
      },
      "execution_count": null,
      "outputs": [
        {
          "output_type": "display_data",
          "data": {
            "text/html": [
              "0"
            ],
            "text/markdown": "0",
            "text/latex": "0",
            "text/plain": [
              "[1] 0"
            ]
          },
          "metadata": {}
        }
      ]
    },
    {
      "cell_type": "code",
      "source": [
        "#install necessary libraries\n",
        "install.packages('ggplot2')\n",
        "install.packages('GGally')\n",
        "\n",
        "#load libraries\n",
        "library(ggplot2)\n",
        "library(GGally)\n",
        "library(\"dplyr\")\n"
      ],
      "metadata": {
        "id": "F85TYGylXVTo",
        "colab": {
          "base_uri": "https://localhost:8080/"
        },
        "outputId": "23e55ef3-9e10-4676-fd5b-c50f44d3b147"
      },
      "execution_count": null,
      "outputs": [
        {
          "output_type": "stream",
          "name": "stderr",
          "text": [
            "Installing package into ‘/usr/local/lib/R/site-library’\n",
            "(as ‘lib’ is unspecified)\n",
            "\n",
            "Installing package into ‘/usr/local/lib/R/site-library’\n",
            "(as ‘lib’ is unspecified)\n",
            "\n",
            "also installing the dependencies ‘Rcpp’, ‘plyr’, ‘reshape’\n",
            "\n",
            "\n",
            "Registered S3 method overwritten by 'GGally':\n",
            "  method from   \n",
            "  +.gg   ggplot2\n",
            "\n"
          ]
        }
      ]
    },
    {
      "cell_type": "markdown",
      "source": [
        "##Subsets of data"
      ],
      "metadata": {
        "id": "WrIxbkSnwDfo"
      }
    },
    {
      "cell_type": "code",
      "source": [
        "head(df[c(5,8,11:12,13:21)],10)"
      ],
      "metadata": {
        "id": "ciz9OMbkXVPA",
        "colab": {
          "base_uri": "https://localhost:8080/",
          "height": 727
        },
        "outputId": "62b95786-9153-407c-9d10-7ebe26516f2d"
      },
      "execution_count": null,
      "outputs": [
        {
          "output_type": "display_data",
          "data": {
            "text/html": [
              "<table class=\"dataframe\">\n",
              "<caption>A data.frame: 10 × 13</caption>\n",
              "<thead>\n",
              "\t<tr><th></th><th scope=col>Year</th><th scope=col>Department</th><th scope=col>Job</th><th scope=col>Employee.Identifier</th><th scope=col>Salaries</th><th scope=col>Overtime</th><th scope=col>Other.Salaries</th><th scope=col>Total.Salary</th><th scope=col>Retirement</th><th scope=col>Health.and.Dental</th><th scope=col>Other.Benefits</th><th scope=col>Total.Benefits</th><th scope=col>Total.Compensation</th></tr>\n",
              "\t<tr><th></th><th scope=col>&lt;int&gt;</th><th scope=col>&lt;chr&gt;</th><th scope=col>&lt;chr&gt;</th><th scope=col>&lt;int&gt;</th><th scope=col>&lt;dbl&gt;</th><th scope=col>&lt;dbl&gt;</th><th scope=col>&lt;dbl&gt;</th><th scope=col>&lt;dbl&gt;</th><th scope=col>&lt;dbl&gt;</th><th scope=col>&lt;dbl&gt;</th><th scope=col>&lt;dbl&gt;</th><th scope=col>&lt;dbl&gt;</th><th scope=col>&lt;dbl&gt;</th></tr>\n",
              "</thead>\n",
              "<tbody>\n",
              "\t<tr><th scope=row>1</th><td>2013</td><td>ADP Adult Probation</td><td>IS Administrator 1            </td><td>37730</td><td> 57534.65</td><td>0</td><td>    0.00</td><td> 57534.65</td><td>11253.16</td><td>11961.34</td><td>4532.63</td><td>27747.13</td><td> 85281.78</td></tr>\n",
              "\t<tr><th scope=row>2</th><td>2013</td><td>ADP Adult Probation</td><td>IS Administrator 3            </td><td>26574</td><td> 57678.50</td><td>0</td><td>    0.00</td><td> 57678.50</td><td>10284.88</td><td> 7176.80</td><td>4755.14</td><td>22216.82</td><td> 79895.32</td></tr>\n",
              "\t<tr><th scope=row>3</th><td>2013</td><td>ADP Adult Probation</td><td>IS Trainer-Assistant          </td><td> 8148</td><td> 63532.93</td><td>0</td><td>    0.00</td><td> 63532.93</td><td>12495.83</td><td>12918.24</td><td>4702.71</td><td>30116.78</td><td> 93649.71</td></tr>\n",
              "\t<tr><th scope=row>4</th><td>2013</td><td>ADP Adult Probation</td><td>IS Business Analyst-Principal </td><td>27436</td><td>101274.51</td><td>0</td><td>-7058.59</td><td> 94215.92</td><td>19644.45</td><td>12918.24</td><td>7458.76</td><td>40021.45</td><td>134237.37</td></tr>\n",
              "\t<tr><th scope=row>5</th><td>2013</td><td>ADP Adult Probation</td><td>IS Programmer Analyst         </td><td>37730</td><td>  5084.00</td><td>0</td><td>    0.00</td><td>  5084.00</td><td> 1083.90</td><td>  956.91</td><td> 387.50</td><td> 2428.31</td><td>  7512.31</td></tr>\n",
              "\t<tr><th scope=row>6</th><td>2013</td><td>ADP Adult Probation</td><td>IS Prg Analyst-Principal      </td><td>36223</td><td> 34456.00</td><td>0</td><td>    0.00</td><td> 34456.00</td><td> 7346.00</td><td> 3827.63</td><td>2579.95</td><td>13753.58</td><td> 48209.58</td></tr>\n",
              "\t<tr><th scope=row>7</th><td>2013</td><td>ADP Adult Probation</td><td>IS Project Director           </td><td>51426</td><td>139889.00</td><td>0</td><td>    0.00</td><td>139889.00</td><td>26799.23</td><td>12918.24</td><td>9791.54</td><td>49509.01</td><td>189398.01</td></tr>\n",
              "\t<tr><th scope=row>8</th><td>2013</td><td>ADP Adult Probation</td><td>IT Operations Support Admin IV</td><td>26574</td><td> 46572.00</td><td>0</td><td>    0.00</td><td> 46572.00</td><td> 9929.16</td><td> 5741.44</td><td>3822.28</td><td>19492.88</td><td> 66064.88</td></tr>\n",
              "\t<tr><th scope=row>9</th><td>2013</td><td>ADP Adult Probation</td><td>Training Officer              </td><td>37983</td><td> 84681.53</td><td>0</td><td>    0.00</td><td> 84681.53</td><td>16661.84</td><td>12918.24</td><td>6838.44</td><td>36418.52</td><td>121100.05</td></tr>\n",
              "\t<tr><th scope=row>10</th><td>2013</td><td>ADP Adult Probation</td><td>Accountant III                </td><td>16858</td><td> 10611.01</td><td>0</td><td>    0.00</td><td> 10611.01</td><td> 1879.20</td><td> 1435.36</td><td> 827.09</td><td> 4141.65</td><td> 14752.66</td></tr>\n",
              "</tbody>\n",
              "</table>\n"
            ],
            "text/markdown": "\nA data.frame: 10 × 13\n\n| <!--/--> | Year &lt;int&gt; | Department &lt;chr&gt; | Job &lt;chr&gt; | Employee.Identifier &lt;int&gt; | Salaries &lt;dbl&gt; | Overtime &lt;dbl&gt; | Other.Salaries &lt;dbl&gt; | Total.Salary &lt;dbl&gt; | Retirement &lt;dbl&gt; | Health.and.Dental &lt;dbl&gt; | Other.Benefits &lt;dbl&gt; | Total.Benefits &lt;dbl&gt; | Total.Compensation &lt;dbl&gt; |\n|---|---|---|---|---|---|---|---|---|---|---|---|---|---|\n| 1 | 2013 | ADP Adult Probation | IS Administrator 1             | 37730 |  57534.65 | 0 |     0.00 |  57534.65 | 11253.16 | 11961.34 | 4532.63 | 27747.13 |  85281.78 |\n| 2 | 2013 | ADP Adult Probation | IS Administrator 3             | 26574 |  57678.50 | 0 |     0.00 |  57678.50 | 10284.88 |  7176.80 | 4755.14 | 22216.82 |  79895.32 |\n| 3 | 2013 | ADP Adult Probation | IS Trainer-Assistant           |  8148 |  63532.93 | 0 |     0.00 |  63532.93 | 12495.83 | 12918.24 | 4702.71 | 30116.78 |  93649.71 |\n| 4 | 2013 | ADP Adult Probation | IS Business Analyst-Principal  | 27436 | 101274.51 | 0 | -7058.59 |  94215.92 | 19644.45 | 12918.24 | 7458.76 | 40021.45 | 134237.37 |\n| 5 | 2013 | ADP Adult Probation | IS Programmer Analyst          | 37730 |   5084.00 | 0 |     0.00 |   5084.00 |  1083.90 |   956.91 |  387.50 |  2428.31 |   7512.31 |\n| 6 | 2013 | ADP Adult Probation | IS Prg Analyst-Principal       | 36223 |  34456.00 | 0 |     0.00 |  34456.00 |  7346.00 |  3827.63 | 2579.95 | 13753.58 |  48209.58 |\n| 7 | 2013 | ADP Adult Probation | IS Project Director            | 51426 | 139889.00 | 0 |     0.00 | 139889.00 | 26799.23 | 12918.24 | 9791.54 | 49509.01 | 189398.01 |\n| 8 | 2013 | ADP Adult Probation | IT Operations Support Admin IV | 26574 |  46572.00 | 0 |     0.00 |  46572.00 |  9929.16 |  5741.44 | 3822.28 | 19492.88 |  66064.88 |\n| 9 | 2013 | ADP Adult Probation | Training Officer               | 37983 |  84681.53 | 0 |     0.00 |  84681.53 | 16661.84 | 12918.24 | 6838.44 | 36418.52 | 121100.05 |\n| 10 | 2013 | ADP Adult Probation | Accountant III                 | 16858 |  10611.01 | 0 |     0.00 |  10611.01 |  1879.20 |  1435.36 |  827.09 |  4141.65 |  14752.66 |\n\n",
            "text/latex": "A data.frame: 10 × 13\n\\begin{tabular}{r|lllllllllllll}\n  & Year & Department & Job & Employee.Identifier & Salaries & Overtime & Other.Salaries & Total.Salary & Retirement & Health.and.Dental & Other.Benefits & Total.Benefits & Total.Compensation\\\\\n  & <int> & <chr> & <chr> & <int> & <dbl> & <dbl> & <dbl> & <dbl> & <dbl> & <dbl> & <dbl> & <dbl> & <dbl>\\\\\n\\hline\n\t1 & 2013 & ADP Adult Probation & IS Administrator 1             & 37730 &  57534.65 & 0 &     0.00 &  57534.65 & 11253.16 & 11961.34 & 4532.63 & 27747.13 &  85281.78\\\\\n\t2 & 2013 & ADP Adult Probation & IS Administrator 3             & 26574 &  57678.50 & 0 &     0.00 &  57678.50 & 10284.88 &  7176.80 & 4755.14 & 22216.82 &  79895.32\\\\\n\t3 & 2013 & ADP Adult Probation & IS Trainer-Assistant           &  8148 &  63532.93 & 0 &     0.00 &  63532.93 & 12495.83 & 12918.24 & 4702.71 & 30116.78 &  93649.71\\\\\n\t4 & 2013 & ADP Adult Probation & IS Business Analyst-Principal  & 27436 & 101274.51 & 0 & -7058.59 &  94215.92 & 19644.45 & 12918.24 & 7458.76 & 40021.45 & 134237.37\\\\\n\t5 & 2013 & ADP Adult Probation & IS Programmer Analyst          & 37730 &   5084.00 & 0 &     0.00 &   5084.00 &  1083.90 &   956.91 &  387.50 &  2428.31 &   7512.31\\\\\n\t6 & 2013 & ADP Adult Probation & IS Prg Analyst-Principal       & 36223 &  34456.00 & 0 &     0.00 &  34456.00 &  7346.00 &  3827.63 & 2579.95 & 13753.58 &  48209.58\\\\\n\t7 & 2013 & ADP Adult Probation & IS Project Director            & 51426 & 139889.00 & 0 &     0.00 & 139889.00 & 26799.23 & 12918.24 & 9791.54 & 49509.01 & 189398.01\\\\\n\t8 & 2013 & ADP Adult Probation & IT Operations Support Admin IV & 26574 &  46572.00 & 0 &     0.00 &  46572.00 &  9929.16 &  5741.44 & 3822.28 & 19492.88 &  66064.88\\\\\n\t9 & 2013 & ADP Adult Probation & Training Officer               & 37983 &  84681.53 & 0 &     0.00 &  84681.53 & 16661.84 & 12918.24 & 6838.44 & 36418.52 & 121100.05\\\\\n\t10 & 2013 & ADP Adult Probation & Accountant III                 & 16858 &  10611.01 & 0 &     0.00 &  10611.01 &  1879.20 &  1435.36 &  827.09 &  4141.65 &  14752.66\\\\\n\\end{tabular}\n",
            "text/plain": [
              "   Year Department          Job                            Employee.Identifier\n",
              "1  2013 ADP Adult Probation IS Administrator 1             37730              \n",
              "2  2013 ADP Adult Probation IS Administrator 3             26574              \n",
              "3  2013 ADP Adult Probation IS Trainer-Assistant            8148              \n",
              "4  2013 ADP Adult Probation IS Business Analyst-Principal  27436              \n",
              "5  2013 ADP Adult Probation IS Programmer Analyst          37730              \n",
              "6  2013 ADP Adult Probation IS Prg Analyst-Principal       36223              \n",
              "7  2013 ADP Adult Probation IS Project Director            51426              \n",
              "8  2013 ADP Adult Probation IT Operations Support Admin IV 26574              \n",
              "9  2013 ADP Adult Probation Training Officer               37983              \n",
              "10 2013 ADP Adult Probation Accountant III                 16858              \n",
              "   Salaries  Overtime Other.Salaries Total.Salary Retirement Health.and.Dental\n",
              "1   57534.65 0            0.00        57534.65    11253.16   11961.34         \n",
              "2   57678.50 0            0.00        57678.50    10284.88    7176.80         \n",
              "3   63532.93 0            0.00        63532.93    12495.83   12918.24         \n",
              "4  101274.51 0        -7058.59        94215.92    19644.45   12918.24         \n",
              "5    5084.00 0            0.00         5084.00     1083.90     956.91         \n",
              "6   34456.00 0            0.00        34456.00     7346.00    3827.63         \n",
              "7  139889.00 0            0.00       139889.00    26799.23   12918.24         \n",
              "8   46572.00 0            0.00        46572.00     9929.16    5741.44         \n",
              "9   84681.53 0            0.00        84681.53    16661.84   12918.24         \n",
              "10  10611.01 0            0.00        10611.01     1879.20    1435.36         \n",
              "   Other.Benefits Total.Benefits Total.Compensation\n",
              "1  4532.63        27747.13        85281.78         \n",
              "2  4755.14        22216.82        79895.32         \n",
              "3  4702.71        30116.78        93649.71         \n",
              "4  7458.76        40021.45       134237.37         \n",
              "5   387.50         2428.31         7512.31         \n",
              "6  2579.95        13753.58        48209.58         \n",
              "7  9791.54        49509.01       189398.01         \n",
              "8  3822.28        19492.88        66064.88         \n",
              "9  6838.44        36418.52       121100.05         \n",
              "10  827.09         4141.65        14752.66         "
            ]
          },
          "metadata": {}
        }
      ]
    },
    {
      "cell_type": "markdown",
      "source": [
        "-- made subsets of columns by grouping them."
      ],
      "metadata": {
        "id": "EBmQW1bGWlC3"
      }
    },
    {
      "cell_type": "markdown",
      "source": [
        "- This code print the total salary, retirement income and total benefits of each year with year 2017 having the highest total salaries as well as total benefits."
      ],
      "metadata": {
        "id": "4UgdWGye1AAu"
      }
    },
    {
      "cell_type": "code",
      "source": [
        "grp_year <- df %>% group_by(Year) %>%\n",
        "                    summarise(total_salaries = sum(Salaries),\n",
        "                                total_retirement_income = sum(Retirement),\n",
        "                                total_benefits = sum(Total.Benefits),\n",
        "                                total_compensation = sum(Total.Compensation),\n",
        "                              .groups = 'drop')\n",
        " \n",
        "#View(grp_year)\n",
        "head(grp_year[order(grp_year $ total_salaries, decreasing = TRUE),],8)"
      ],
      "metadata": {
        "id": "--CbVDg8XVLp",
        "colab": {
          "base_uri": "https://localhost:8080/",
          "height": 349
        },
        "outputId": "8f684918-28de-47bd-a980-271439219dd6"
      },
      "execution_count": null,
      "outputs": [
        {
          "output_type": "display_data",
          "data": {
            "text/html": [
              "<table class=\"dataframe\">\n",
              "<caption>A tibble: 8 × 5</caption>\n",
              "<thead>\n",
              "\t<tr><th scope=col>Year</th><th scope=col>total_salaries</th><th scope=col>total_retirement_income</th><th scope=col>total_benefits</th><th scope=col>total_compensation</th></tr>\n",
              "\t<tr><th scope=col>&lt;int&gt;</th><th scope=col>&lt;dbl&gt;</th><th scope=col>&lt;dbl&gt;</th><th scope=col>&lt;dbl&gt;</th><th scope=col>&lt;dbl&gt;</th></tr>\n",
              "</thead>\n",
              "<tbody>\n",
              "\t<tr><td>2017</td><td>9252930812</td><td>1696789927</td><td>3712084303</td><td>14149265730</td></tr>\n",
              "\t<tr><td>2019</td><td>6787841128</td><td>1331189668</td><td>2793324138</td><td>10522127756</td></tr>\n",
              "\t<tr><td>2018</td><td>6515750650</td><td>1245652936</td><td>2654059198</td><td>10016514486</td></tr>\n",
              "\t<tr><td>2016</td><td>5812009475</td><td>1082868131</td><td>2347435092</td><td> 8922178817</td></tr>\n",
              "\t<tr><td>2015</td><td>5412272803</td><td>1167589218</td><td>2314141563</td><td> 8418018017</td></tr>\n",
              "\t<tr><td>2014</td><td>5109369001</td><td>1103888583</td><td>2211137892</td><td> 7989456545</td></tr>\n",
              "\t<tr><td>2013</td><td>5064585032</td><td> 967740952</td><td>2051922816</td><td> 7769136365</td></tr>\n",
              "\t<tr><td>2020</td><td>3509946564</td><td> 737092987</td><td>1488035893</td><td> 5471228049</td></tr>\n",
              "</tbody>\n",
              "</table>\n"
            ],
            "text/markdown": "\nA tibble: 8 × 5\n\n| Year &lt;int&gt; | total_salaries &lt;dbl&gt; | total_retirement_income &lt;dbl&gt; | total_benefits &lt;dbl&gt; | total_compensation &lt;dbl&gt; |\n|---|---|---|---|---|\n| 2017 | 9252930812 | 1696789927 | 3712084303 | 14149265730 |\n| 2019 | 6787841128 | 1331189668 | 2793324138 | 10522127756 |\n| 2018 | 6515750650 | 1245652936 | 2654059198 | 10016514486 |\n| 2016 | 5812009475 | 1082868131 | 2347435092 |  8922178817 |\n| 2015 | 5412272803 | 1167589218 | 2314141563 |  8418018017 |\n| 2014 | 5109369001 | 1103888583 | 2211137892 |  7989456545 |\n| 2013 | 5064585032 |  967740952 | 2051922816 |  7769136365 |\n| 2020 | 3509946564 |  737092987 | 1488035893 |  5471228049 |\n\n",
            "text/latex": "A tibble: 8 × 5\n\\begin{tabular}{lllll}\n Year & total\\_salaries & total\\_retirement\\_income & total\\_benefits & total\\_compensation\\\\\n <int> & <dbl> & <dbl> & <dbl> & <dbl>\\\\\n\\hline\n\t 2017 & 9252930812 & 1696789927 & 3712084303 & 14149265730\\\\\n\t 2019 & 6787841128 & 1331189668 & 2793324138 & 10522127756\\\\\n\t 2018 & 6515750650 & 1245652936 & 2654059198 & 10016514486\\\\\n\t 2016 & 5812009475 & 1082868131 & 2347435092 &  8922178817\\\\\n\t 2015 & 5412272803 & 1167589218 & 2314141563 &  8418018017\\\\\n\t 2014 & 5109369001 & 1103888583 & 2211137892 &  7989456545\\\\\n\t 2013 & 5064585032 &  967740952 & 2051922816 &  7769136365\\\\\n\t 2020 & 3509946564 &  737092987 & 1488035893 &  5471228049\\\\\n\\end{tabular}\n",
            "text/plain": [
              "  Year total_salaries total_retirement_income total_benefits total_compensation\n",
              "1 2017 9252930812     1696789927              3712084303     14149265730       \n",
              "2 2019 6787841128     1331189668              2793324138     10522127756       \n",
              "3 2018 6515750650     1245652936              2654059198     10016514486       \n",
              "4 2016 5812009475     1082868131              2347435092      8922178817       \n",
              "5 2015 5412272803     1167589218              2314141563      8418018017       \n",
              "6 2014 5109369001     1103888583              2211137892      7989456545       \n",
              "7 2013 5064585032      967740952              2051922816      7769136365       \n",
              "8 2020 3509946564      737092987              1488035893      5471228049       "
            ]
          },
          "metadata": {}
        }
      ]
    },
    {
      "cell_type": "markdown",
      "source": [
        "- ^ From the above output it can be noticed that year 2017 received highest salaries, retirement income as well as benefits.\n"
      ],
      "metadata": {
        "id": "XHiVHqL61Puk"
      }
    },
    {
      "cell_type": "code",
      "source": [],
      "metadata": {
        "id": "QQ35ugzZ9_yJ"
      },
      "execution_count": null,
      "outputs": []
    },
    {
      "cell_type": "markdown",
      "source": [
        "- From the below ouput it can be denoted that **Registered Nurse** has the highest total salaries but **Transit Operator** has more total retirement income as well as total benefits in 2017."
      ],
      "metadata": {
        "id": "2eWatOhX8keh"
      }
    },
    {
      "cell_type": "code",
      "source": [
        "grp_job <- df %>% group_by(Job,Year) %>%\n",
        "                    summarise(\n",
        "                                total_salaries = sum(Salaries),\n",
        "                                total_retirement_income = sum(Retirement),\n",
        "                                total_benefits = sum(Total.Benefits),\n",
        "                              .groups = 'drop')\n",
        " \n",
        " #arrange(grp_job, sum_of_total_salaries)  \n",
        "\n",
        "head(grp_job[order(grp_job $ total_salaries, decreasing = TRUE),],10)\n",
        "tail(grp_job[order(grp_job $ total_salaries, decreasing = TRUE),],10)\n"
      ],
      "metadata": {
        "id": "HBAr7cidXVJG",
        "colab": {
          "base_uri": "https://localhost:8080/",
          "height": 806
        },
        "outputId": "055c4184-d3e7-4457-d333-50c8cc4c4a7d"
      },
      "execution_count": null,
      "outputs": [
        {
          "output_type": "display_data",
          "data": {
            "text/html": [
              "<table class=\"dataframe\">\n",
              "<caption>A tibble: 10 × 5</caption>\n",
              "<thead>\n",
              "\t<tr><th scope=col>Job</th><th scope=col>Year</th><th scope=col>total_salaries</th><th scope=col>total_retirement_income</th><th scope=col>total_benefits</th></tr>\n",
              "\t<tr><th scope=col>&lt;chr&gt;</th><th scope=col>&lt;int&gt;</th><th scope=col>&lt;dbl&gt;</th><th scope=col>&lt;dbl&gt;</th><th scope=col>&lt;dbl&gt;</th></tr>\n",
              "</thead>\n",
              "<tbody>\n",
              "\t<tr><td>Registered Nurse</td><td>2017</td><td>465790236</td><td>83324582</td><td>171744909</td></tr>\n",
              "\t<tr><td>Transit Operator</td><td>2017</td><td>456582929</td><td>94554432</td><td>238619992</td></tr>\n",
              "\t<tr><td>Registered Nurse</td><td>2019</td><td>355110670</td><td>65118206</td><td>135384780</td></tr>\n",
              "\t<tr><td>Registered Nurse</td><td>2018</td><td>333808714</td><td>60072510</td><td>126675463</td></tr>\n",
              "\t<tr><td>Transit Operator</td><td>2019</td><td>319133962</td><td>67195460</td><td>168335152</td></tr>\n",
              "\t<tr><td>Transit Operator</td><td>2018</td><td>315340165</td><td>64225762</td><td>163558995</td></tr>\n",
              "\t<tr><td>Registered Nurse</td><td>2016</td><td>294034760</td><td>57120534</td><td>107154923</td></tr>\n",
              "\t<tr><td>Transit Operator</td><td>2016</td><td>283264105</td><td>67947654</td><td>156902766</td></tr>\n",
              "\t<tr><td>Registered Nurse</td><td>2015</td><td>273878746</td><td>57279528</td><td>100576326</td></tr>\n",
              "\t<tr><td>Firefighter     </td><td>2017</td><td>264794032</td><td>52027361</td><td> 99520736</td></tr>\n",
              "</tbody>\n",
              "</table>\n"
            ],
            "text/markdown": "\nA tibble: 10 × 5\n\n| Job &lt;chr&gt; | Year &lt;int&gt; | total_salaries &lt;dbl&gt; | total_retirement_income &lt;dbl&gt; | total_benefits &lt;dbl&gt; |\n|---|---|---|---|---|\n| Registered Nurse | 2017 | 465790236 | 83324582 | 171744909 |\n| Transit Operator | 2017 | 456582929 | 94554432 | 238619992 |\n| Registered Nurse | 2019 | 355110670 | 65118206 | 135384780 |\n| Registered Nurse | 2018 | 333808714 | 60072510 | 126675463 |\n| Transit Operator | 2019 | 319133962 | 67195460 | 168335152 |\n| Transit Operator | 2018 | 315340165 | 64225762 | 163558995 |\n| Registered Nurse | 2016 | 294034760 | 57120534 | 107154923 |\n| Transit Operator | 2016 | 283264105 | 67947654 | 156902766 |\n| Registered Nurse | 2015 | 273878746 | 57279528 | 100576326 |\n| Firefighter      | 2017 | 264794032 | 52027361 |  99520736 |\n\n",
            "text/latex": "A tibble: 10 × 5\n\\begin{tabular}{lllll}\n Job & Year & total\\_salaries & total\\_retirement\\_income & total\\_benefits\\\\\n <chr> & <int> & <dbl> & <dbl> & <dbl>\\\\\n\\hline\n\t Registered Nurse & 2017 & 465790236 & 83324582 & 171744909\\\\\n\t Transit Operator & 2017 & 456582929 & 94554432 & 238619992\\\\\n\t Registered Nurse & 2019 & 355110670 & 65118206 & 135384780\\\\\n\t Registered Nurse & 2018 & 333808714 & 60072510 & 126675463\\\\\n\t Transit Operator & 2019 & 319133962 & 67195460 & 168335152\\\\\n\t Transit Operator & 2018 & 315340165 & 64225762 & 163558995\\\\\n\t Registered Nurse & 2016 & 294034760 & 57120534 & 107154923\\\\\n\t Transit Operator & 2016 & 283264105 & 67947654 & 156902766\\\\\n\t Registered Nurse & 2015 & 273878746 & 57279528 & 100576326\\\\\n\t Firefighter      & 2017 & 264794032 & 52027361 &  99520736\\\\\n\\end{tabular}\n",
            "text/plain": [
              "   Job              Year total_salaries total_retirement_income total_benefits\n",
              "1  Registered Nurse 2017 465790236      83324582                171744909     \n",
              "2  Transit Operator 2017 456582929      94554432                238619992     \n",
              "3  Registered Nurse 2019 355110670      65118206                135384780     \n",
              "4  Registered Nurse 2018 333808714      60072510                126675463     \n",
              "5  Transit Operator 2019 319133962      67195460                168335152     \n",
              "6  Transit Operator 2018 315340165      64225762                163558995     \n",
              "7  Registered Nurse 2016 294034760      57120534                107154923     \n",
              "8  Transit Operator 2016 283264105      67947654                156902766     \n",
              "9  Registered Nurse 2015 273878746      57279528                100576326     \n",
              "10 Firefighter      2017 264794032      52027361                 99520736     "
            ]
          },
          "metadata": {}
        },
        {
          "output_type": "display_data",
          "data": {
            "text/html": [
              "<table class=\"dataframe\">\n",
              "<caption>A tibble: 10 × 5</caption>\n",
              "<thead>\n",
              "\t<tr><th scope=col>Job</th><th scope=col>Year</th><th scope=col>total_salaries</th><th scope=col>total_retirement_income</th><th scope=col>total_benefits</th></tr>\n",
              "\t<tr><th scope=col>&lt;chr&gt;</th><th scope=col>&lt;int&gt;</th><th scope=col>&lt;dbl&gt;</th><th scope=col>&lt;dbl&gt;</th><th scope=col>&lt;dbl&gt;</th></tr>\n",
              "</thead>\n",
              "<tbody>\n",
              "\t<tr><td>Special Assistant 16         </td><td>2014</td><td>    0</td><td>   0.00</td><td>  134.98</td></tr>\n",
              "\t<tr><td>Special Assistant 21         </td><td>2016</td><td>    0</td><td>   0.00</td><td> 1349.08</td></tr>\n",
              "\t<tr><td>Sr Medical Transcriber Typist</td><td>2016</td><td>    0</td><td>   0.00</td><td>   22.44</td></tr>\n",
              "\t<tr><td>Steamfitter Supervisor 2     </td><td>2019</td><td>    0</td><td>   0.00</td><td> 4226.36</td></tr>\n",
              "\t<tr><td>Transit Paint Shop Sprv1     </td><td>2014</td><td>    0</td><td>   0.00</td><td>  490.22</td></tr>\n",
              "\t<tr><td>Transit Paint Shop Sprv1     </td><td>2015</td><td>    0</td><td>   0.00</td><td>   73.53</td></tr>\n",
              "\t<tr><td>Transit Paint Shop Sprv1     </td><td>2016</td><td>    0</td><td>   0.00</td><td>   73.53</td></tr>\n",
              "\t<tr><td>Trnst Power Line Wrk Sprv 2  </td><td>2016</td><td>    0</td><td>   0.00</td><td> 1750.92</td></tr>\n",
              "\t<tr><td><span style=white-space:pre-wrap>Victim &amp; Witness Technician  </span></td><td>2015</td><td><span style=white-space:pre-wrap>    0</span></td><td><span style=white-space:pre-wrap>   0.00</span></td><td><span style=white-space:pre-wrap>  647.79</span></td></tr>\n",
              "\t<tr><td>Employment &amp; Training Spec 6 </td><td>2020</td><td>-5214</td><td>-970.85</td><td>-2022.27</td></tr>\n",
              "</tbody>\n",
              "</table>\n"
            ],
            "text/markdown": "\nA tibble: 10 × 5\n\n| Job &lt;chr&gt; | Year &lt;int&gt; | total_salaries &lt;dbl&gt; | total_retirement_income &lt;dbl&gt; | total_benefits &lt;dbl&gt; |\n|---|---|---|---|---|\n| Special Assistant 16          | 2014 |     0 |    0.00 |   134.98 |\n| Special Assistant 21          | 2016 |     0 |    0.00 |  1349.08 |\n| Sr Medical Transcriber Typist | 2016 |     0 |    0.00 |    22.44 |\n| Steamfitter Supervisor 2      | 2019 |     0 |    0.00 |  4226.36 |\n| Transit Paint Shop Sprv1      | 2014 |     0 |    0.00 |   490.22 |\n| Transit Paint Shop Sprv1      | 2015 |     0 |    0.00 |    73.53 |\n| Transit Paint Shop Sprv1      | 2016 |     0 |    0.00 |    73.53 |\n| Trnst Power Line Wrk Sprv 2   | 2016 |     0 |    0.00 |  1750.92 |\n| Victim &amp; Witness Technician   | 2015 |     0 |    0.00 |   647.79 |\n| Employment &amp; Training Spec 6  | 2020 | -5214 | -970.85 | -2022.27 |\n\n",
            "text/latex": "A tibble: 10 × 5\n\\begin{tabular}{lllll}\n Job & Year & total\\_salaries & total\\_retirement\\_income & total\\_benefits\\\\\n <chr> & <int> & <dbl> & <dbl> & <dbl>\\\\\n\\hline\n\t Special Assistant 16          & 2014 &     0 &    0.00 &   134.98\\\\\n\t Special Assistant 21          & 2016 &     0 &    0.00 &  1349.08\\\\\n\t Sr Medical Transcriber Typist & 2016 &     0 &    0.00 &    22.44\\\\\n\t Steamfitter Supervisor 2      & 2019 &     0 &    0.00 &  4226.36\\\\\n\t Transit Paint Shop Sprv1      & 2014 &     0 &    0.00 &   490.22\\\\\n\t Transit Paint Shop Sprv1      & 2015 &     0 &    0.00 &    73.53\\\\\n\t Transit Paint Shop Sprv1      & 2016 &     0 &    0.00 &    73.53\\\\\n\t Trnst Power Line Wrk Sprv 2   & 2016 &     0 &    0.00 &  1750.92\\\\\n\t Victim \\& Witness Technician   & 2015 &     0 &    0.00 &   647.79\\\\\n\t Employment \\& Training Spec 6  & 2020 & -5214 & -970.85 & -2022.27\\\\\n\\end{tabular}\n",
            "text/plain": [
              "   Job                           Year total_salaries total_retirement_income\n",
              "1  Special Assistant 16          2014     0             0.00                \n",
              "2  Special Assistant 21          2016     0             0.00                \n",
              "3  Sr Medical Transcriber Typist 2016     0             0.00                \n",
              "4  Steamfitter Supervisor 2      2019     0             0.00                \n",
              "5  Transit Paint Shop Sprv1      2014     0             0.00                \n",
              "6  Transit Paint Shop Sprv1      2015     0             0.00                \n",
              "7  Transit Paint Shop Sprv1      2016     0             0.00                \n",
              "8  Trnst Power Line Wrk Sprv 2   2016     0             0.00                \n",
              "9  Victim & Witness Technician   2015     0             0.00                \n",
              "10 Employment & Training Spec 6  2020 -5214          -970.85                \n",
              "   total_benefits\n",
              "1    134.98      \n",
              "2   1349.08      \n",
              "3     22.44      \n",
              "4   4226.36      \n",
              "5    490.22      \n",
              "6     73.53      \n",
              "7     73.53      \n",
              "8   1750.92      \n",
              "9    647.79      \n",
              "10 -2022.27      "
            ]
          },
          "metadata": {}
        }
      ]
    },
    {
      "cell_type": "markdown",
      "source": [
        "- This codes output states that Job family \"Street Transit\" received highest total benefits in the year 2017 with 334M while Administrative Secretarial\trevceived the lowest in 2020 with only 0.1M"
      ],
      "metadata": {
        "id": "zj8frAbPDLgT"
      }
    },
    {
      "cell_type": "code",
      "source": [
        "grp_job.family <- df %>% group_by(Job.Family,Year) %>%\n",
        "                    summarise(\n",
        "                                total_salaries = sum(Salaries),\n",
        "                                total_retirement_income = sum(Retirement),\n",
        "                                total_benefits = sum(Total.Benefits),\n",
        "                              .groups = 'drop')\n",
        " \n",
        "\n",
        "\n",
        "head(grp_job.family[order(grp_job.family $ total_salaries, decreasing = TRUE),],10)\n",
        "tail(grp_job.family[order(grp_job.family $ total_salaries, decreasing = TRUE),],10)\n",
        "\n"
      ],
      "metadata": {
        "id": "EeR415pdXVFm",
        "colab": {
          "base_uri": "https://localhost:8080/",
          "height": 806
        },
        "outputId": "d2cd3be0-6eb1-4b50-bea2-b3ee316d4026"
      },
      "execution_count": null,
      "outputs": [
        {
          "output_type": "display_data",
          "data": {
            "text/html": [
              "<table class=\"dataframe\">\n",
              "<caption>A tibble: 10 × 5</caption>\n",
              "<thead>\n",
              "\t<tr><th scope=col>Job.Family</th><th scope=col>Year</th><th scope=col>total_salaries</th><th scope=col>total_retirement_income</th><th scope=col>total_benefits</th></tr>\n",
              "\t<tr><th scope=col>&lt;chr&gt;</th><th scope=col>&lt;int&gt;</th><th scope=col>&lt;dbl&gt;</th><th scope=col>&lt;dbl&gt;</th><th scope=col>&lt;dbl&gt;</th></tr>\n",
              "</thead>\n",
              "<tbody>\n",
              "\t<tr><td>Nursing         </td><td>2017</td><td>986163884</td><td>152129110</td><td>332523877</td></tr>\n",
              "\t<tr><td>Police Services </td><td>2017</td><td>817624241</td><td>144328008</td><td>260339021</td></tr>\n",
              "\t<tr><td>Nursing         </td><td>2019</td><td>720383607</td><td>119858990</td><td>252092698</td></tr>\n",
              "\t<tr><td>Nursing         </td><td>2018</td><td>697232991</td><td>112336763</td><td>240024279</td></tr>\n",
              "\t<tr><td>Street Transit  </td><td>2017</td><td>675523164</td><td>135990355</td><td>334371906</td></tr>\n",
              "\t<tr><td>Journeyman Trade</td><td>2017</td><td>616265165</td><td>115275192</td><td>267351374</td></tr>\n",
              "\t<tr><td>Nursing         </td><td>2016</td><td>613267394</td><td> 97349480</td><td>208714818</td></tr>\n",
              "\t<tr><td>Police Services </td><td>2019</td><td>584023751</td><td>109957500</td><td>194143164</td></tr>\n",
              "\t<tr><td>Nursing         </td><td>2015</td><td>573501471</td><td>108076378</td><td>208681145</td></tr>\n",
              "\t<tr><td>Fire Services   </td><td>2017</td><td>570565414</td><td>110429151</td><td>200717520</td></tr>\n",
              "</tbody>\n",
              "</table>\n"
            ],
            "text/markdown": "\nA tibble: 10 × 5\n\n| Job.Family &lt;chr&gt; | Year &lt;int&gt; | total_salaries &lt;dbl&gt; | total_retirement_income &lt;dbl&gt; | total_benefits &lt;dbl&gt; |\n|---|---|---|---|---|\n| Nursing          | 2017 | 986163884 | 152129110 | 332523877 |\n| Police Services  | 2017 | 817624241 | 144328008 | 260339021 |\n| Nursing          | 2019 | 720383607 | 119858990 | 252092698 |\n| Nursing          | 2018 | 697232991 | 112336763 | 240024279 |\n| Street Transit   | 2017 | 675523164 | 135990355 | 334371906 |\n| Journeyman Trade | 2017 | 616265165 | 115275192 | 267351374 |\n| Nursing          | 2016 | 613267394 |  97349480 | 208714818 |\n| Police Services  | 2019 | 584023751 | 109957500 | 194143164 |\n| Nursing          | 2015 | 573501471 | 108076378 | 208681145 |\n| Fire Services    | 2017 | 570565414 | 110429151 | 200717520 |\n\n",
            "text/latex": "A tibble: 10 × 5\n\\begin{tabular}{lllll}\n Job.Family & Year & total\\_salaries & total\\_retirement\\_income & total\\_benefits\\\\\n <chr> & <int> & <dbl> & <dbl> & <dbl>\\\\\n\\hline\n\t Nursing          & 2017 & 986163884 & 152129110 & 332523877\\\\\n\t Police Services  & 2017 & 817624241 & 144328008 & 260339021\\\\\n\t Nursing          & 2019 & 720383607 & 119858990 & 252092698\\\\\n\t Nursing          & 2018 & 697232991 & 112336763 & 240024279\\\\\n\t Street Transit   & 2017 & 675523164 & 135990355 & 334371906\\\\\n\t Journeyman Trade & 2017 & 616265165 & 115275192 & 267351374\\\\\n\t Nursing          & 2016 & 613267394 &  97349480 & 208714818\\\\\n\t Police Services  & 2019 & 584023751 & 109957500 & 194143164\\\\\n\t Nursing          & 2015 & 573501471 & 108076378 & 208681145\\\\\n\t Fire Services    & 2017 & 570565414 & 110429151 & 200717520\\\\\n\\end{tabular}\n",
            "text/plain": [
              "   Job.Family       Year total_salaries total_retirement_income total_benefits\n",
              "1  Nursing          2017 986163884      152129110               332523877     \n",
              "2  Police Services  2017 817624241      144328008               260339021     \n",
              "3  Nursing          2019 720383607      119858990               252092698     \n",
              "4  Nursing          2018 697232991      112336763               240024279     \n",
              "5  Street Transit   2017 675523164      135990355               334371906     \n",
              "6  Journeyman Trade 2017 616265165      115275192               267351374     \n",
              "7  Nursing          2016 613267394       97349480               208714818     \n",
              "8  Police Services  2019 584023751      109957500               194143164     \n",
              "9  Nursing          2015 573501471      108076378               208681145     \n",
              "10 Fire Services    2017 570565414      110429151               200717520     "
            ]
          },
          "metadata": {}
        },
        {
          "output_type": "display_data",
          "data": {
            "text/html": [
              "<table class=\"dataframe\">\n",
              "<caption>A tibble: 10 × 5</caption>\n",
              "<thead>\n",
              "\t<tr><th scope=col>Job.Family</th><th scope=col>Year</th><th scope=col>total_salaries</th><th scope=col>total_retirement_income</th><th scope=col>total_benefits</th></tr>\n",
              "\t<tr><th scope=col>&lt;chr&gt;</th><th scope=col>&lt;int&gt;</th><th scope=col>&lt;dbl&gt;</th><th scope=col>&lt;dbl&gt;</th><th scope=col>&lt;dbl&gt;</th></tr>\n",
              "</thead>\n",
              "<tbody>\n",
              "\t<tr><td>Administrative Secretarial   </td><td>2017</td><td>1530412.2</td><td>261100.51</td><td>582157.9</td></tr>\n",
              "\t<tr><td>Administrative Secretarial   </td><td>2014</td><td>1397044.2</td><td>280196.71</td><td>579854.0</td></tr>\n",
              "\t<tr><td>Administrative Secretarial   </td><td>2015</td><td>1388449.4</td><td>276512.69</td><td>561269.1</td></tr>\n",
              "\t<tr><td>SF Redevelopment Agency      </td><td>2017</td><td>1363497.9</td><td>258100.38</td><td>614334.0</td></tr>\n",
              "\t<tr><td>Administrative Secretarial   </td><td>2016</td><td>1349652.7</td><td>231764.90</td><td>513007.5</td></tr>\n",
              "\t<tr><td>Administrative &amp; Mgmt (Unrep)</td><td>2013</td><td>1301706.9</td><td>242756.97</td><td>387377.3</td></tr>\n",
              "\t<tr><td>Emergency Services           </td><td>2013</td><td>1102510.2</td><td>211044.36</td><td>455851.0</td></tr>\n",
              "\t<tr><td>Administrative Secretarial   </td><td>2019</td><td> 965660.6</td><td>188546.08</td><td>399680.0</td></tr>\n",
              "\t<tr><td>Administrative Secretarial   </td><td>2018</td><td> 947552.7</td><td>181455.17</td><td>387014.6</td></tr>\n",
              "\t<tr><td>Administrative Secretarial   </td><td>2020</td><td> 429224.8</td><td> 89496.46</td><td>183656.1</td></tr>\n",
              "</tbody>\n",
              "</table>\n"
            ],
            "text/markdown": "\nA tibble: 10 × 5\n\n| Job.Family &lt;chr&gt; | Year &lt;int&gt; | total_salaries &lt;dbl&gt; | total_retirement_income &lt;dbl&gt; | total_benefits &lt;dbl&gt; |\n|---|---|---|---|---|\n| Administrative Secretarial    | 2017 | 1530412.2 | 261100.51 | 582157.9 |\n| Administrative Secretarial    | 2014 | 1397044.2 | 280196.71 | 579854.0 |\n| Administrative Secretarial    | 2015 | 1388449.4 | 276512.69 | 561269.1 |\n| SF Redevelopment Agency       | 2017 | 1363497.9 | 258100.38 | 614334.0 |\n| Administrative Secretarial    | 2016 | 1349652.7 | 231764.90 | 513007.5 |\n| Administrative &amp; Mgmt (Unrep) | 2013 | 1301706.9 | 242756.97 | 387377.3 |\n| Emergency Services            | 2013 | 1102510.2 | 211044.36 | 455851.0 |\n| Administrative Secretarial    | 2019 |  965660.6 | 188546.08 | 399680.0 |\n| Administrative Secretarial    | 2018 |  947552.7 | 181455.17 | 387014.6 |\n| Administrative Secretarial    | 2020 |  429224.8 |  89496.46 | 183656.1 |\n\n",
            "text/latex": "A tibble: 10 × 5\n\\begin{tabular}{lllll}\n Job.Family & Year & total\\_salaries & total\\_retirement\\_income & total\\_benefits\\\\\n <chr> & <int> & <dbl> & <dbl> & <dbl>\\\\\n\\hline\n\t Administrative Secretarial    & 2017 & 1530412.2 & 261100.51 & 582157.9\\\\\n\t Administrative Secretarial    & 2014 & 1397044.2 & 280196.71 & 579854.0\\\\\n\t Administrative Secretarial    & 2015 & 1388449.4 & 276512.69 & 561269.1\\\\\n\t SF Redevelopment Agency       & 2017 & 1363497.9 & 258100.38 & 614334.0\\\\\n\t Administrative Secretarial    & 2016 & 1349652.7 & 231764.90 & 513007.5\\\\\n\t Administrative \\& Mgmt (Unrep) & 2013 & 1301706.9 & 242756.97 & 387377.3\\\\\n\t Emergency Services            & 2013 & 1102510.2 & 211044.36 & 455851.0\\\\\n\t Administrative Secretarial    & 2019 &  965660.6 & 188546.08 & 399680.0\\\\\n\t Administrative Secretarial    & 2018 &  947552.7 & 181455.17 & 387014.6\\\\\n\t Administrative Secretarial    & 2020 &  429224.8 &  89496.46 & 183656.1\\\\\n\\end{tabular}\n",
            "text/plain": [
              "   Job.Family                    Year total_salaries total_retirement_income\n",
              "1  Administrative Secretarial    2017 1530412.2      261100.51              \n",
              "2  Administrative Secretarial    2014 1397044.2      280196.71              \n",
              "3  Administrative Secretarial    2015 1388449.4      276512.69              \n",
              "4  SF Redevelopment Agency       2017 1363497.9      258100.38              \n",
              "5  Administrative Secretarial    2016 1349652.7      231764.90              \n",
              "6  Administrative & Mgmt (Unrep) 2013 1301706.9      242756.97              \n",
              "7  Emergency Services            2013 1102510.2      211044.36              \n",
              "8  Administrative Secretarial    2019  965660.6      188546.08              \n",
              "9  Administrative Secretarial    2018  947552.7      181455.17              \n",
              "10 Administrative Secretarial    2020  429224.8       89496.46              \n",
              "   total_benefits\n",
              "1  582157.9      \n",
              "2  579854.0      \n",
              "3  561269.1      \n",
              "4  614334.0      \n",
              "5  513007.5      \n",
              "6  387377.3      \n",
              "7  455851.0      \n",
              "8  399680.0      \n",
              "9  387014.6      \n",
              "10 183656.1      "
            ]
          },
          "metadata": {}
        }
      ]
    },
    {
      "cell_type": "markdown",
      "source": [
        "##Single Vector"
      ],
      "metadata": {
        "id": "O6YK3L1uHIJG"
      }
    },
    {
      "cell_type": "code",
      "source": [
        "grp_job <- df %>% group_by(Job) %>%\n",
        "                    summarise(\n",
        "                                sum_of_total_salaries = sum(Total.Salary),\n",
        "                                total_retirement_income = sum(Retirement),\n",
        "                                total_benefits = sum(Total.Benefits),\n",
        "                              .groups = 'drop')\n",
        " \n",
        " #arrange(grp_job, sum_of_total_salaries)  \n",
        "\n",
        "head(grp_job[order(grp_job $ sum_of_total_salaries, decreasing = TRUE),],10)"
      ],
      "metadata": {
        "id": "yjGMX54KXVDH",
        "colab": {
          "base_uri": "https://localhost:8080/",
          "height": 412
        },
        "outputId": "52ea9939-e2d1-4bd4-a5aa-09b49ba7370b"
      },
      "execution_count": null,
      "outputs": [
        {
          "output_type": "display_data",
          "data": {
            "text/html": [
              "<table class=\"dataframe\">\n",
              "<caption>A tibble: 10 × 4</caption>\n",
              "<thead>\n",
              "\t<tr><th scope=col>Job</th><th scope=col>sum_of_total_salaries</th><th scope=col>total_retirement_income</th><th scope=col>total_benefits</th></tr>\n",
              "\t<tr><th scope=col>&lt;chr&gt;</th><th scope=col>&lt;dbl&gt;</th><th scope=col>&lt;dbl&gt;</th><th scope=col>&lt;dbl&gt;</th></tr>\n",
              "</thead>\n",
              "<tbody>\n",
              "\t<tr><td>Transit Operator         </td><td>2893394656</td><td>545003305</td><td>1258055425</td></tr>\n",
              "\t<tr><td>Registered Nurse         </td><td>2753545597</td><td>471262726</td><td> 908633872</td></tr>\n",
              "\t<tr><td>Firefighter              </td><td>1906665860</td><td>290925484</td><td> 531110226</td></tr>\n",
              "\t<tr><td>Police Officer 3         </td><td>1788071681</td><td>261673953</td><td> 447241536</td></tr>\n",
              "\t<tr><td>Sergeant 3               </td><td>1160303356</td><td>171466167</td><td> 281317215</td></tr>\n",
              "\t<tr><td>Deputy Sheriff           </td><td>1157934522</td><td>242485781</td><td> 375643851</td></tr>\n",
              "\t<tr><td>Special Nurse            </td><td>1014506714</td><td> 46284244</td><td> 144142816</td></tr>\n",
              "\t<tr><td>Attorney (Civil/Criminal)</td><td> 950439191</td><td>180090318</td><td> 320104799</td></tr>\n",
              "\t<tr><td>Police Officer 2         </td><td> 930357770</td><td>140751077</td><td> 245139235</td></tr>\n",
              "\t<tr><td>Police Officer           </td><td> 897236454</td><td>147174738</td><td> 278804760</td></tr>\n",
              "</tbody>\n",
              "</table>\n"
            ],
            "text/markdown": "\nA tibble: 10 × 4\n\n| Job &lt;chr&gt; | sum_of_total_salaries &lt;dbl&gt; | total_retirement_income &lt;dbl&gt; | total_benefits &lt;dbl&gt; |\n|---|---|---|---|\n| Transit Operator          | 2893394656 | 545003305 | 1258055425 |\n| Registered Nurse          | 2753545597 | 471262726 |  908633872 |\n| Firefighter               | 1906665860 | 290925484 |  531110226 |\n| Police Officer 3          | 1788071681 | 261673953 |  447241536 |\n| Sergeant 3                | 1160303356 | 171466167 |  281317215 |\n| Deputy Sheriff            | 1157934522 | 242485781 |  375643851 |\n| Special Nurse             | 1014506714 |  46284244 |  144142816 |\n| Attorney (Civil/Criminal) |  950439191 | 180090318 |  320104799 |\n| Police Officer 2          |  930357770 | 140751077 |  245139235 |\n| Police Officer            |  897236454 | 147174738 |  278804760 |\n\n",
            "text/latex": "A tibble: 10 × 4\n\\begin{tabular}{llll}\n Job & sum\\_of\\_total\\_salaries & total\\_retirement\\_income & total\\_benefits\\\\\n <chr> & <dbl> & <dbl> & <dbl>\\\\\n\\hline\n\t Transit Operator          & 2893394656 & 545003305 & 1258055425\\\\\n\t Registered Nurse          & 2753545597 & 471262726 &  908633872\\\\\n\t Firefighter               & 1906665860 & 290925484 &  531110226\\\\\n\t Police Officer 3          & 1788071681 & 261673953 &  447241536\\\\\n\t Sergeant 3                & 1160303356 & 171466167 &  281317215\\\\\n\t Deputy Sheriff            & 1157934522 & 242485781 &  375643851\\\\\n\t Special Nurse             & 1014506714 &  46284244 &  144142816\\\\\n\t Attorney (Civil/Criminal) &  950439191 & 180090318 &  320104799\\\\\n\t Police Officer 2          &  930357770 & 140751077 &  245139235\\\\\n\t Police Officer            &  897236454 & 147174738 &  278804760\\\\\n\\end{tabular}\n",
            "text/plain": [
              "   Job                       sum_of_total_salaries total_retirement_income\n",
              "1  Transit Operator          2893394656            545003305              \n",
              "2  Registered Nurse          2753545597            471262726              \n",
              "3  Firefighter               1906665860            290925484              \n",
              "4  Police Officer 3          1788071681            261673953              \n",
              "5  Sergeant 3                1160303356            171466167              \n",
              "6  Deputy Sheriff            1157934522            242485781              \n",
              "7  Special Nurse             1014506714             46284244              \n",
              "8  Attorney (Civil/Criminal)  950439191            180090318              \n",
              "9  Police Officer 2           930357770            140751077              \n",
              "10 Police Officer             897236454            147174738              \n",
              "   total_benefits\n",
              "1  1258055425    \n",
              "2   908633872    \n",
              "3   531110226    \n",
              "4   447241536    \n",
              "5   281317215    \n",
              "6   375643851    \n",
              "7   144142816    \n",
              "8   320104799    \n",
              "9   245139235    \n",
              "10  278804760    "
            ]
          },
          "metadata": {}
        }
      ]
    },
    {
      "cell_type": "markdown",
      "source": [
        "- Transit Operator has the highest occurance in the dataset which means that most of the people in San Francisco are occupied being Transit Operator also because it offers more benefits all together"
      ],
      "metadata": {
        "id": "fDxBnCJqLLR7"
      }
    },
    {
      "cell_type": "code",
      "source": [
        "require(dplyr)\n",
        "head(df %>% count(Job, name = \"count\", sort = TRUE),10)\n",
        "tail(df %>% count(Job, name = \"count\", sort = TRUE),10)\n"
      ],
      "metadata": {
        "colab": {
          "base_uri": "https://localhost:8080/",
          "height": 806
        },
        "id": "9RP8Ym7CE1hw",
        "outputId": "fe419bb5-bd73-4dd5-c49a-ccde99d7f0e0"
      },
      "execution_count": null,
      "outputs": [
        {
          "output_type": "display_data",
          "data": {
            "text/html": [
              "<table class=\"dataframe\">\n",
              "<caption>A data.frame: 10 × 2</caption>\n",
              "<thead>\n",
              "\t<tr><th></th><th scope=col>Job</th><th scope=col>count</th></tr>\n",
              "\t<tr><th></th><th scope=col>&lt;chr&gt;</th><th scope=col>&lt;int&gt;</th></tr>\n",
              "</thead>\n",
              "<tbody>\n",
              "\t<tr><th scope=row>1</th><td>Transit Operator            </td><td>43373</td></tr>\n",
              "\t<tr><th scope=row>2</th><td>Special Nurse               </td><td>25285</td></tr>\n",
              "\t<tr><th scope=row>3</th><td>Registered Nurse            </td><td>21954</td></tr>\n",
              "\t<tr><th scope=row>4</th><td>Firefighter                 </td><td>14038</td></tr>\n",
              "\t<tr><th scope=row>5</th><td>Public Service Trainee      </td><td>13690</td></tr>\n",
              "\t<tr><th scope=row>6</th><td>Custodian                   </td><td>13525</td></tr>\n",
              "\t<tr><th scope=row>7</th><td>Police Officer 3            </td><td>13121</td></tr>\n",
              "\t<tr><th scope=row>8</th><td>Recreation Leader           </td><td>11577</td></tr>\n",
              "\t<tr><th scope=row>9</th><td>Public Svc Aide-Public Works</td><td>10956</td></tr>\n",
              "\t<tr><th scope=row>10</th><td>Police Officer              </td><td>10667</td></tr>\n",
              "</tbody>\n",
              "</table>\n"
            ],
            "text/markdown": "\nA data.frame: 10 × 2\n\n| <!--/--> | Job &lt;chr&gt; | count &lt;int&gt; |\n|---|---|---|\n| 1 | Transit Operator             | 43373 |\n| 2 | Special Nurse                | 25285 |\n| 3 | Registered Nurse             | 21954 |\n| 4 | Firefighter                  | 14038 |\n| 5 | Public Service Trainee       | 13690 |\n| 6 | Custodian                    | 13525 |\n| 7 | Police Officer 3             | 13121 |\n| 8 | Recreation Leader            | 11577 |\n| 9 | Public Svc Aide-Public Works | 10956 |\n| 10 | Police Officer               | 10667 |\n\n",
            "text/latex": "A data.frame: 10 × 2\n\\begin{tabular}{r|ll}\n  & Job & count\\\\\n  & <chr> & <int>\\\\\n\\hline\n\t1 & Transit Operator             & 43373\\\\\n\t2 & Special Nurse                & 25285\\\\\n\t3 & Registered Nurse             & 21954\\\\\n\t4 & Firefighter                  & 14038\\\\\n\t5 & Public Service Trainee       & 13690\\\\\n\t6 & Custodian                    & 13525\\\\\n\t7 & Police Officer 3             & 13121\\\\\n\t8 & Recreation Leader            & 11577\\\\\n\t9 & Public Svc Aide-Public Works & 10956\\\\\n\t10 & Police Officer               & 10667\\\\\n\\end{tabular}\n",
            "text/plain": [
              "   Job                          count\n",
              "1  Transit Operator             43373\n",
              "2  Special Nurse                25285\n",
              "3  Registered Nurse             21954\n",
              "4  Firefighter                  14038\n",
              "5  Public Service Trainee       13690\n",
              "6  Custodian                    13525\n",
              "7  Police Officer 3             13121\n",
              "8  Recreation Leader            11577\n",
              "9  Public Svc Aide-Public Works 10956\n",
              "10 Police Officer               10667"
            ]
          },
          "metadata": {}
        },
        {
          "output_type": "display_data",
          "data": {
            "text/html": [
              "<table class=\"dataframe\">\n",
              "<caption>A data.frame: 10 × 2</caption>\n",
              "<thead>\n",
              "\t<tr><th></th><th scope=col>Job</th><th scope=col>count</th></tr>\n",
              "\t<tr><th></th><th scope=col>&lt;chr&gt;</th><th scope=col>&lt;int&gt;</th></tr>\n",
              "</thead>\n",
              "<tbody>\n",
              "\t<tr><th scope=row>1341</th><td>Exec Asst to Airport Director </td><td>1</td></tr>\n",
              "\t<tr><th scope=row>1342</th><td>Mayoral Staff I               </td><td>1</td></tr>\n",
              "\t<tr><th scope=row>1343</th><td>Mobile Equipment Supervisor   </td><td>1</td></tr>\n",
              "\t<tr><th scope=row>1344</th><td>Musm Exhibit Packer &amp; Repairer</td><td>1</td></tr>\n",
              "\t<tr><th scope=row>1345</th><td>Pianist                       </td><td>1</td></tr>\n",
              "\t<tr><th scope=row>1346</th><td>Police Services Aide          </td><td>1</td></tr>\n",
              "\t<tr><th scope=row>1347</th><td>Special Assistant 8           </td><td>1</td></tr>\n",
              "\t<tr><th scope=row>1348</th><td>Sr Sprvg Institut Mgr (PERS)  </td><td>1</td></tr>\n",
              "\t<tr><th scope=row>1349</th><td>Trial Delay Reduct Coord      </td><td>1</td></tr>\n",
              "\t<tr><th scope=row>1350</th><td>Veterans Claims Rep Supervisor</td><td>1</td></tr>\n",
              "</tbody>\n",
              "</table>\n"
            ],
            "text/markdown": "\nA data.frame: 10 × 2\n\n| <!--/--> | Job &lt;chr&gt; | count &lt;int&gt; |\n|---|---|---|\n| 1341 | Exec Asst to Airport Director  | 1 |\n| 1342 | Mayoral Staff I                | 1 |\n| 1343 | Mobile Equipment Supervisor    | 1 |\n| 1344 | Musm Exhibit Packer &amp; Repairer | 1 |\n| 1345 | Pianist                        | 1 |\n| 1346 | Police Services Aide           | 1 |\n| 1347 | Special Assistant 8            | 1 |\n| 1348 | Sr Sprvg Institut Mgr (PERS)   | 1 |\n| 1349 | Trial Delay Reduct Coord       | 1 |\n| 1350 | Veterans Claims Rep Supervisor | 1 |\n\n",
            "text/latex": "A data.frame: 10 × 2\n\\begin{tabular}{r|ll}\n  & Job & count\\\\\n  & <chr> & <int>\\\\\n\\hline\n\t1341 & Exec Asst to Airport Director  & 1\\\\\n\t1342 & Mayoral Staff I                & 1\\\\\n\t1343 & Mobile Equipment Supervisor    & 1\\\\\n\t1344 & Musm Exhibit Packer \\& Repairer & 1\\\\\n\t1345 & Pianist                        & 1\\\\\n\t1346 & Police Services Aide           & 1\\\\\n\t1347 & Special Assistant 8            & 1\\\\\n\t1348 & Sr Sprvg Institut Mgr (PERS)   & 1\\\\\n\t1349 & Trial Delay Reduct Coord       & 1\\\\\n\t1350 & Veterans Claims Rep Supervisor & 1\\\\\n\\end{tabular}\n",
            "text/plain": [
              "     Job                            count\n",
              "1341 Exec Asst to Airport Director  1    \n",
              "1342 Mayoral Staff I                1    \n",
              "1343 Mobile Equipment Supervisor    1    \n",
              "1344 Musm Exhibit Packer & Repairer 1    \n",
              "1345 Pianist                        1    \n",
              "1346 Police Services Aide           1    \n",
              "1347 Special Assistant 8            1    \n",
              "1348 Sr Sprvg Institut Mgr (PERS)   1    \n",
              "1349 Trial Delay Reduct Coord       1    \n",
              "1350 Veterans Claims Rep Supervisor 1    "
            ]
          },
          "metadata": {}
        }
      ]
    },
    {
      "cell_type": "code",
      "source": [
        "job <- c(grp_job[\"Job\"])\n",
        "total_salary <- c(grp_job[\"sum_of_total_salaries\"])\n",
        "total_retirement_income <- c(grp_job[\"total_retirement_income\"])\n",
        "total_benefits <- c(grp_job[\"total_benefits\"])\n",
        "\n",
        "class(job)\n",
        "class(total_salary)\n",
        "class(total_retirement_income)\n",
        "class(total_benefits)"
      ],
      "metadata": {
        "colab": {
          "base_uri": "https://localhost:8080/",
          "height": 86
        },
        "id": "WcvoloCaE1eP",
        "outputId": "852264c5-320f-4a91-eb4d-04b065be83da"
      },
      "execution_count": null,
      "outputs": [
        {
          "output_type": "display_data",
          "data": {
            "text/html": [
              "'list'"
            ],
            "text/markdown": "'list'",
            "text/latex": "'list'",
            "text/plain": [
              "[1] \"list\""
            ]
          },
          "metadata": {}
        },
        {
          "output_type": "display_data",
          "data": {
            "text/html": [
              "'list'"
            ],
            "text/markdown": "'list'",
            "text/latex": "'list'",
            "text/plain": [
              "[1] \"list\""
            ]
          },
          "metadata": {}
        },
        {
          "output_type": "display_data",
          "data": {
            "text/html": [
              "'list'"
            ],
            "text/markdown": "'list'",
            "text/latex": "'list'",
            "text/plain": [
              "[1] \"list\""
            ]
          },
          "metadata": {}
        },
        {
          "output_type": "display_data",
          "data": {
            "text/html": [
              "'list'"
            ],
            "text/markdown": "'list'",
            "text/latex": "'list'",
            "text/plain": [
              "[1] \"list\""
            ]
          },
          "metadata": {}
        }
      ]
    },
    {
      "cell_type": "code",
      "source": [
        "job <- as.numeric(unlist(job))\n",
        "total_salary <- as.numeric(unlist(total_salary))\n",
        "total_retirement_income <- as.numeric(unlist(total_retirement_income))\n",
        "total_benefits <- as.numeric(unlist(total_benefits))\n",
        "\n",
        "class(job)\n",
        "class(total_salary)\n",
        "class(total_retirement_income)\n",
        "class(total_benefits)"
      ],
      "metadata": {
        "colab": {
          "base_uri": "https://localhost:8080/",
          "height": 121
        },
        "id": "43DINDulRdvT",
        "outputId": "c5e41bfe-93aa-4a67-d6ca-292ef7088bc8"
      },
      "execution_count": null,
      "outputs": [
        {
          "output_type": "stream",
          "name": "stderr",
          "text": [
            "Warning message in eval(expr, envir, enclos):\n",
            "“NAs introduced by coercion”\n"
          ]
        },
        {
          "output_type": "display_data",
          "data": {
            "text/html": [
              "'numeric'"
            ],
            "text/markdown": "'numeric'",
            "text/latex": "'numeric'",
            "text/plain": [
              "[1] \"numeric\""
            ]
          },
          "metadata": {}
        },
        {
          "output_type": "display_data",
          "data": {
            "text/html": [
              "'numeric'"
            ],
            "text/markdown": "'numeric'",
            "text/latex": "'numeric'",
            "text/plain": [
              "[1] \"numeric\""
            ]
          },
          "metadata": {}
        },
        {
          "output_type": "display_data",
          "data": {
            "text/html": [
              "'numeric'"
            ],
            "text/markdown": "'numeric'",
            "text/latex": "'numeric'",
            "text/plain": [
              "[1] \"numeric\""
            ]
          },
          "metadata": {}
        },
        {
          "output_type": "display_data",
          "data": {
            "text/html": [
              "'numeric'"
            ],
            "text/markdown": "'numeric'",
            "text/latex": "'numeric'",
            "text/plain": [
              "[1] \"numeric\""
            ]
          },
          "metadata": {}
        }
      ]
    },
    {
      "cell_type": "code",
      "source": [
        "job_title_vector <- grp_job[2:6,2:4]\n",
        "job_title_vector"
      ],
      "metadata": {
        "colab": {
          "base_uri": "https://localhost:8080/",
          "height": 255
        },
        "id": "CffCo7XpQ2q8",
        "outputId": "2bb0ab9f-f2d8-42f7-df9c-9c59dc0a2b18"
      },
      "execution_count": null,
      "outputs": [
        {
          "output_type": "display_data",
          "data": {
            "text/html": [
              "<table class=\"dataframe\">\n",
              "<caption>A tibble: 5 × 3</caption>\n",
              "<thead>\n",
              "\t<tr><th scope=col>sum_of_total_salaries</th><th scope=col>total_retirement_income</th><th scope=col>total_benefits</th></tr>\n",
              "\t<tr><th scope=col>&lt;dbl&gt;</th><th scope=col>&lt;dbl&gt;</th><th scope=col>&lt;dbl&gt;</th></tr>\n",
              "</thead>\n",
              "<tbody>\n",
              "\t<tr><td> 54850361.3</td><td>10904337.02</td><td>28098538.5</td></tr>\n",
              "\t<tr><td>  1629228.8</td><td>  289231.52</td><td>  723598.9</td></tr>\n",
              "\t<tr><td> 71892182.4</td><td>13894290.81</td><td>31835313.7</td></tr>\n",
              "\t<tr><td>   518111.9</td><td>   95455.43</td><td>  213571.4</td></tr>\n",
              "\t<tr><td>168908126.4</td><td>31825619.62</td><td>68177146.5</td></tr>\n",
              "</tbody>\n",
              "</table>\n"
            ],
            "text/markdown": "\nA tibble: 5 × 3\n\n| sum_of_total_salaries &lt;dbl&gt; | total_retirement_income &lt;dbl&gt; | total_benefits &lt;dbl&gt; |\n|---|---|---|\n|  54850361.3 | 10904337.02 | 28098538.5 |\n|   1629228.8 |   289231.52 |   723598.9 |\n|  71892182.4 | 13894290.81 | 31835313.7 |\n|    518111.9 |    95455.43 |   213571.4 |\n| 168908126.4 | 31825619.62 | 68177146.5 |\n\n",
            "text/latex": "A tibble: 5 × 3\n\\begin{tabular}{lll}\n sum\\_of\\_total\\_salaries & total\\_retirement\\_income & total\\_benefits\\\\\n <dbl> & <dbl> & <dbl>\\\\\n\\hline\n\t  54850361.3 & 10904337.02 & 28098538.5\\\\\n\t   1629228.8 &   289231.52 &   723598.9\\\\\n\t  71892182.4 & 13894290.81 & 31835313.7\\\\\n\t    518111.9 &    95455.43 &   213571.4\\\\\n\t 168908126.4 & 31825619.62 & 68177146.5\\\\\n\\end{tabular}\n",
            "text/plain": [
              "  sum_of_total_salaries total_retirement_income total_benefits\n",
              "1  54850361.3           10904337.02             28098538.5    \n",
              "2   1629228.8             289231.52               723598.9    \n",
              "3  71892182.4           13894290.81             31835313.7    \n",
              "4    518111.9              95455.43               213571.4    \n",
              "5 168908126.4           31825619.62             68177146.5    "
            ]
          },
          "metadata": {}
        }
      ]
    },
    {
      "cell_type": "code",
      "source": [
        "sum_of_total_salaries <- c(job_title_vector[\"sum_of_total_salaries\"])\n",
        "total_retirement_income <- c(job_title_vector[\"total_retirement_income\"])\n",
        "total_benefits <- c(job_title_vector[\"total_benefits\"])\n",
        "\n",
        "\n",
        "class(sum_of_total_salaries)\n",
        "class(total_retirement_income)\n",
        "class(total_benefits)"
      ],
      "metadata": {
        "colab": {
          "base_uri": "https://localhost:8080/",
          "height": 69
        },
        "id": "Kf6rc0HIkh_F",
        "outputId": "50bb1cbd-20b1-4c49-adef-ba290132ecea"
      },
      "execution_count": null,
      "outputs": [
        {
          "output_type": "display_data",
          "data": {
            "text/html": [
              "'list'"
            ],
            "text/markdown": "'list'",
            "text/latex": "'list'",
            "text/plain": [
              "[1] \"list\""
            ]
          },
          "metadata": {}
        },
        {
          "output_type": "display_data",
          "data": {
            "text/html": [
              "'list'"
            ],
            "text/markdown": "'list'",
            "text/latex": "'list'",
            "text/plain": [
              "[1] \"list\""
            ]
          },
          "metadata": {}
        },
        {
          "output_type": "display_data",
          "data": {
            "text/html": [
              "'list'"
            ],
            "text/markdown": "'list'",
            "text/latex": "'list'",
            "text/plain": [
              "[1] \"list\""
            ]
          },
          "metadata": {}
        }
      ]
    },
    {
      "cell_type": "code",
      "source": [
        "sum_of_total_salaries <- as.numeric(unlist(sum_of_total_salaries))\n",
        "total_retirement_income <- as.numeric(unlist(total_retirement_income))\n",
        "total_benefits <- as.numeric(unlist(total_benefits))\n",
        "\n",
        "\n",
        "class(sum_of_total_salaries)\n",
        "class(total_retirement_income)\n",
        "class(total_benefits)"
      ],
      "metadata": {
        "colab": {
          "base_uri": "https://localhost:8080/",
          "height": 69
        },
        "id": "-UGpQ5ulpAOx",
        "outputId": "31f98892-868f-4d04-97ff-3fa0df15cae4"
      },
      "execution_count": null,
      "outputs": [
        {
          "output_type": "display_data",
          "data": {
            "text/html": [
              "'numeric'"
            ],
            "text/markdown": "'numeric'",
            "text/latex": "'numeric'",
            "text/plain": [
              "[1] \"numeric\""
            ]
          },
          "metadata": {}
        },
        {
          "output_type": "display_data",
          "data": {
            "text/html": [
              "'numeric'"
            ],
            "text/markdown": "'numeric'",
            "text/latex": "'numeric'",
            "text/plain": [
              "[1] \"numeric\""
            ]
          },
          "metadata": {}
        },
        {
          "output_type": "display_data",
          "data": {
            "text/html": [
              "'numeric'"
            ],
            "text/markdown": "'numeric'",
            "text/latex": "'numeric'",
            "text/plain": [
              "[1] \"numeric\""
            ]
          },
          "metadata": {}
        }
      ]
    },
    {
      "cell_type": "code",
      "source": [
        "job_title_vector\n",
        "summary(job_title_vector)"
      ],
      "metadata": {
        "colab": {
          "base_uri": "https://localhost:8080/",
          "height": 376
        },
        "id": "q8MJjz9GE1cO",
        "outputId": "e7dbd145-35c0-487b-9214-770b5d7e4bc6"
      },
      "execution_count": null,
      "outputs": [
        {
          "output_type": "display_data",
          "data": {
            "text/html": [
              "<table class=\"dataframe\">\n",
              "<caption>A tibble: 5 × 3</caption>\n",
              "<thead>\n",
              "\t<tr><th scope=col>sum_of_total_salaries</th><th scope=col>total_retirement_income</th><th scope=col>total_benefits</th></tr>\n",
              "\t<tr><th scope=col>&lt;dbl&gt;</th><th scope=col>&lt;dbl&gt;</th><th scope=col>&lt;dbl&gt;</th></tr>\n",
              "</thead>\n",
              "<tbody>\n",
              "\t<tr><td> 54850361.3</td><td>10904337.02</td><td>28098538.5</td></tr>\n",
              "\t<tr><td>  1629228.8</td><td>  289231.52</td><td>  723598.9</td></tr>\n",
              "\t<tr><td> 71892182.4</td><td>13894290.81</td><td>31835313.7</td></tr>\n",
              "\t<tr><td>   518111.9</td><td>   95455.43</td><td>  213571.4</td></tr>\n",
              "\t<tr><td>168908126.4</td><td>31825619.62</td><td>68177146.5</td></tr>\n",
              "</tbody>\n",
              "</table>\n"
            ],
            "text/markdown": "\nA tibble: 5 × 3\n\n| sum_of_total_salaries &lt;dbl&gt; | total_retirement_income &lt;dbl&gt; | total_benefits &lt;dbl&gt; |\n|---|---|---|\n|  54850361.3 | 10904337.02 | 28098538.5 |\n|   1629228.8 |   289231.52 |   723598.9 |\n|  71892182.4 | 13894290.81 | 31835313.7 |\n|    518111.9 |    95455.43 |   213571.4 |\n| 168908126.4 | 31825619.62 | 68177146.5 |\n\n",
            "text/latex": "A tibble: 5 × 3\n\\begin{tabular}{lll}\n sum\\_of\\_total\\_salaries & total\\_retirement\\_income & total\\_benefits\\\\\n <dbl> & <dbl> & <dbl>\\\\\n\\hline\n\t  54850361.3 & 10904337.02 & 28098538.5\\\\\n\t   1629228.8 &   289231.52 &   723598.9\\\\\n\t  71892182.4 & 13894290.81 & 31835313.7\\\\\n\t    518111.9 &    95455.43 &   213571.4\\\\\n\t 168908126.4 & 31825619.62 & 68177146.5\\\\\n\\end{tabular}\n",
            "text/plain": [
              "  sum_of_total_salaries total_retirement_income total_benefits\n",
              "1  54850361.3           10904337.02             28098538.5    \n",
              "2   1629228.8             289231.52               723598.9    \n",
              "3  71892182.4           13894290.81             31835313.7    \n",
              "4    518111.9              95455.43               213571.4    \n",
              "5 168908126.4           31825619.62             68177146.5    "
            ]
          },
          "metadata": {}
        },
        {
          "output_type": "display_data",
          "data": {
            "text/plain": [
              " sum_of_total_salaries total_retirement_income total_benefits    \n",
              " Min.   :   518112     Min.   :   95455        Min.   :  213571  \n",
              " 1st Qu.:  1629229     1st Qu.:  289232        1st Qu.:  723599  \n",
              " Median : 54850361     Median :10904337        Median :28098538  \n",
              " Mean   : 59559602     Mean   :11401787        Mean   :25809634  \n",
              " 3rd Qu.: 71892182     3rd Qu.:13894291        3rd Qu.:31835314  \n",
              " Max.   :168908126     Max.   :31825620        Max.   :68177147  "
            ]
          },
          "metadata": {}
        }
      ]
    },
    {
      "cell_type": "markdown",
      "source": [
        "##Creating Lists"
      ],
      "metadata": {
        "id": "Fv8P9iDbsA30"
      }
    },
    {
      "cell_type": "markdown",
      "source": [
        "- I have created 5 different list from the grouped **Year** column from grp_year data frame"
      ],
      "metadata": {
        "id": "fSxh7jVc4jod"
      }
    },
    {
      "cell_type": "code",
      "source": [
        "chunk_number <- 5         # Define number of chunks\n",
        "\n",
        "split(grp_year$Year,             # Applying split() function\n",
        "      cut(seq_along(grp_year$Year),\n",
        "          chunk_number,\n",
        "          labels = FALSE))"
      ],
      "metadata": {
        "colab": {
          "base_uri": "https://localhost:8080/",
          "height": 219
        },
        "id": "MZFGZ8uLE1QE",
        "outputId": "1490a8a7-db78-4de2-9eb8-25346c821832"
      },
      "execution_count": null,
      "outputs": [
        {
          "output_type": "display_data",
          "data": {
            "text/html": [
              "<dl>\n",
              "\t<dt>$`1`</dt>\n",
              "\t\t<dd><style>\n",
              ".list-inline {list-style: none; margin:0; padding: 0}\n",
              ".list-inline>li {display: inline-block}\n",
              ".list-inline>li:not(:last-child)::after {content: \"\\00b7\"; padding: 0 .5ex}\n",
              "</style>\n",
              "<ol class=list-inline><li>2013</li><li>2014</li></ol>\n",
              "</dd>\n",
              "\t<dt>$`2`</dt>\n",
              "\t\t<dd>2015</dd>\n",
              "\t<dt>$`3`</dt>\n",
              "\t\t<dd><style>\n",
              ".list-inline {list-style: none; margin:0; padding: 0}\n",
              ".list-inline>li {display: inline-block}\n",
              ".list-inline>li:not(:last-child)::after {content: \"\\00b7\"; padding: 0 .5ex}\n",
              "</style>\n",
              "<ol class=list-inline><li>2016</li><li>2017</li></ol>\n",
              "</dd>\n",
              "\t<dt>$`4`</dt>\n",
              "\t\t<dd>2018</dd>\n",
              "\t<dt>$`5`</dt>\n",
              "\t\t<dd><style>\n",
              ".list-inline {list-style: none; margin:0; padding: 0}\n",
              ".list-inline>li {display: inline-block}\n",
              ".list-inline>li:not(:last-child)::after {content: \"\\00b7\"; padding: 0 .5ex}\n",
              "</style>\n",
              "<ol class=list-inline><li>2019</li><li>2020</li></ol>\n",
              "</dd>\n",
              "</dl>\n"
            ],
            "text/markdown": "$`1`\n:   1. 2013\n2. 2014\n\n\n\n$`2`\n:   2015\n$`3`\n:   1. 2016\n2. 2017\n\n\n\n$`4`\n:   2018\n$`5`\n:   1. 2019\n2. 2020\n\n\n\n\n\n",
            "text/latex": "\\begin{description}\n\\item[\\$`1`] \\begin{enumerate*}\n\\item 2013\n\\item 2014\n\\end{enumerate*}\n\n\\item[\\$`2`] 2015\n\\item[\\$`3`] \\begin{enumerate*}\n\\item 2016\n\\item 2017\n\\end{enumerate*}\n\n\\item[\\$`4`] 2018\n\\item[\\$`5`] \\begin{enumerate*}\n\\item 2019\n\\item 2020\n\\end{enumerate*}\n\n\\end{description}\n",
            "text/plain": [
              "$`1`\n",
              "[1] 2013 2014\n",
              "\n",
              "$`2`\n",
              "[1] 2015\n",
              "\n",
              "$`3`\n",
              "[1] 2016 2017\n",
              "\n",
              "$`4`\n",
              "[1] 2018\n",
              "\n",
              "$`5`\n",
              "[1] 2019 2020\n"
            ]
          },
          "metadata": {}
        }
      ]
    },
    {
      "cell_type": "markdown",
      "source": [
        "##Conditionals"
      ],
      "metadata": {
        "id": "Ge2lqmgd5n-9"
      }
    },
    {
      "cell_type": "code",
      "source": [
        "summary(grp_year)"
      ],
      "metadata": {
        "colab": {
          "base_uri": "https://localhost:8080/",
          "height": 260
        },
        "id": "IwYpasK1-VPJ",
        "outputId": "4b5d0c6f-f7f9-4a46-d222-61672191243d"
      },
      "execution_count": null,
      "outputs": [
        {
          "output_type": "display_data",
          "data": {
            "text/plain": [
              "      Year      sum_of_total_salaries total_retirement_income\n",
              " Min.   :2013   Min.   :3.983e+09     Min.   :7.371e+08      \n",
              " 1st Qu.:2015   1st Qu.:5.763e+09     1st Qu.:1.054e+09      \n",
              " Median :2016   Median :6.339e+09     Median :1.136e+09      \n",
              " Mean   :2016   Mean   :6.711e+09     Mean   :1.167e+09      \n",
              " 3rd Qu.:2018   3rd Qu.:7.454e+09     3rd Qu.:1.267e+09      \n",
              " Max.   :2020   Max.   :1.044e+10     Max.   :1.697e+09      \n",
              " total_benefits     \n",
              " Min.   :1.488e+09  \n",
              " 1st Qu.:2.171e+09  \n",
              " Median :2.331e+09  \n",
              " Mean   :2.447e+09  \n",
              " 3rd Qu.:2.689e+09  \n",
              " Max.   :3.712e+09  "
            ]
          },
          "metadata": {}
        }
      ]
    },
    {
      "cell_type": "markdown",
      "source": [
        "- constructed an if else condition to check if the total salary is above median or below and concatenated the column to grp_year before printing."
      ],
      "metadata": {
        "id": "ERjW3puxAixk"
      }
    },
    {
      "cell_type": "code",
      "source": [
        "mutate(grp_year, Result = ifelse(sum_of_total_salaries >= 6339000000, \"Above median\", \"Below median\"))\n"
      ],
      "metadata": {
        "colab": {
          "base_uri": "https://localhost:8080/",
          "height": 349
        },
        "id": "YrkFFQdu_-O6",
        "outputId": "cb68f6c0-0a63-453d-e4db-611d14aeca82"
      },
      "execution_count": null,
      "outputs": [
        {
          "output_type": "display_data",
          "data": {
            "text/html": [
              "<table class=\"dataframe\">\n",
              "<caption>A tibble: 8 × 5</caption>\n",
              "<thead>\n",
              "\t<tr><th scope=col>Year</th><th scope=col>sum_of_total_salaries</th><th scope=col>total_retirement_income</th><th scope=col>total_benefits</th><th scope=col>Result</th></tr>\n",
              "\t<tr><th scope=col>&lt;int&gt;</th><th scope=col>&lt;dbl&gt;</th><th scope=col>&lt;dbl&gt;</th><th scope=col>&lt;dbl&gt;</th><th scope=col>&lt;chr&gt;</th></tr>\n",
              "</thead>\n",
              "<tbody>\n",
              "\t<tr><td>2013</td><td> 5717213549</td><td> 967740952</td><td>2051922816</td><td>Below median</td></tr>\n",
              "\t<tr><td>2014</td><td> 5778318653</td><td>1103888583</td><td>2211137892</td><td>Below median</td></tr>\n",
              "\t<tr><td>2015</td><td> 6103876453</td><td>1167589218</td><td>2314141563</td><td>Below median</td></tr>\n",
              "\t<tr><td>2016</td><td> 6574743725</td><td>1082868131</td><td>2347435092</td><td>Above median</td></tr>\n",
              "\t<tr><td>2017</td><td>10437181428</td><td>1696789927</td><td>3712084303</td><td>Above median</td></tr>\n",
              "\t<tr><td>2018</td><td> 7362455288</td><td>1245652936</td><td>2654059198</td><td>Above median</td></tr>\n",
              "\t<tr><td>2019</td><td> 7728803618</td><td>1331189668</td><td>2793324138</td><td>Above median</td></tr>\n",
              "\t<tr><td>2020</td><td> 3983192157</td><td> 737092987</td><td>1488035893</td><td>Below median</td></tr>\n",
              "</tbody>\n",
              "</table>\n"
            ],
            "text/markdown": "\nA tibble: 8 × 5\n\n| Year &lt;int&gt; | sum_of_total_salaries &lt;dbl&gt; | total_retirement_income &lt;dbl&gt; | total_benefits &lt;dbl&gt; | Result &lt;chr&gt; |\n|---|---|---|---|---|\n| 2013 |  5717213549 |  967740952 | 2051922816 | Below median |\n| 2014 |  5778318653 | 1103888583 | 2211137892 | Below median |\n| 2015 |  6103876453 | 1167589218 | 2314141563 | Below median |\n| 2016 |  6574743725 | 1082868131 | 2347435092 | Above median |\n| 2017 | 10437181428 | 1696789927 | 3712084303 | Above median |\n| 2018 |  7362455288 | 1245652936 | 2654059198 | Above median |\n| 2019 |  7728803618 | 1331189668 | 2793324138 | Above median |\n| 2020 |  3983192157 |  737092987 | 1488035893 | Below median |\n\n",
            "text/latex": "A tibble: 8 × 5\n\\begin{tabular}{lllll}\n Year & sum\\_of\\_total\\_salaries & total\\_retirement\\_income & total\\_benefits & Result\\\\\n <int> & <dbl> & <dbl> & <dbl> & <chr>\\\\\n\\hline\n\t 2013 &  5717213549 &  967740952 & 2051922816 & Below median\\\\\n\t 2014 &  5778318653 & 1103888583 & 2211137892 & Below median\\\\\n\t 2015 &  6103876453 & 1167589218 & 2314141563 & Below median\\\\\n\t 2016 &  6574743725 & 1082868131 & 2347435092 & Above median\\\\\n\t 2017 & 10437181428 & 1696789927 & 3712084303 & Above median\\\\\n\t 2018 &  7362455288 & 1245652936 & 2654059198 & Above median\\\\\n\t 2019 &  7728803618 & 1331189668 & 2793324138 & Above median\\\\\n\t 2020 &  3983192157 &  737092987 & 1488035893 & Below median\\\\\n\\end{tabular}\n",
            "text/plain": [
              "  Year sum_of_total_salaries total_retirement_income total_benefits\n",
              "1 2013  5717213549            967740952              2051922816    \n",
              "2 2014  5778318653           1103888583              2211137892    \n",
              "3 2015  6103876453           1167589218              2314141563    \n",
              "4 2016  6574743725           1082868131              2347435092    \n",
              "5 2017 10437181428           1696789927              3712084303    \n",
              "6 2018  7362455288           1245652936              2654059198    \n",
              "7 2019  7728803618           1331189668              2793324138    \n",
              "8 2020  3983192157            737092987              1488035893    \n",
              "  Result      \n",
              "1 Below median\n",
              "2 Below median\n",
              "3 Below median\n",
              "4 Above median\n",
              "5 Above median\n",
              "6 Above median\n",
              "7 Above median\n",
              "8 Below median"
            ]
          },
          "metadata": {}
        }
      ]
    },
    {
      "cell_type": "code",
      "source": [
        "mutate(grp_year, Result = ifelse(total_retirement_income <= 1033900000, \"Very little total retirement income\", \"more than minimum total retirement income\"))\n"
      ],
      "metadata": {
        "colab": {
          "base_uri": "https://localhost:8080/",
          "height": 349
        },
        "id": "d6tuH4gYA31j",
        "outputId": "fdccfe2d-75ba-44ae-ea10-59f3e49ce3ba"
      },
      "execution_count": null,
      "outputs": [
        {
          "output_type": "display_data",
          "data": {
            "text/html": [
              "<table class=\"dataframe\">\n",
              "<caption>A tibble: 8 × 5</caption>\n",
              "<thead>\n",
              "\t<tr><th scope=col>Year</th><th scope=col>sum_of_total_salaries</th><th scope=col>total_retirement_income</th><th scope=col>total_benefits</th><th scope=col>Result</th></tr>\n",
              "\t<tr><th scope=col>&lt;int&gt;</th><th scope=col>&lt;dbl&gt;</th><th scope=col>&lt;dbl&gt;</th><th scope=col>&lt;dbl&gt;</th><th scope=col>&lt;chr&gt;</th></tr>\n",
              "</thead>\n",
              "<tbody>\n",
              "\t<tr><td>2013</td><td> 5717213549</td><td> 967740952</td><td>2051922816</td><td>Very little total retirement income      </td></tr>\n",
              "\t<tr><td>2014</td><td> 5778318653</td><td>1103888583</td><td>2211137892</td><td>more than minimum total retirement income</td></tr>\n",
              "\t<tr><td>2015</td><td> 6103876453</td><td>1167589218</td><td>2314141563</td><td>more than minimum total retirement income</td></tr>\n",
              "\t<tr><td>2016</td><td> 6574743725</td><td>1082868131</td><td>2347435092</td><td>more than minimum total retirement income</td></tr>\n",
              "\t<tr><td>2017</td><td>10437181428</td><td>1696789927</td><td>3712084303</td><td>more than minimum total retirement income</td></tr>\n",
              "\t<tr><td>2018</td><td> 7362455288</td><td>1245652936</td><td>2654059198</td><td>more than minimum total retirement income</td></tr>\n",
              "\t<tr><td>2019</td><td> 7728803618</td><td>1331189668</td><td>2793324138</td><td>more than minimum total retirement income</td></tr>\n",
              "\t<tr><td>2020</td><td> 3983192157</td><td> 737092987</td><td>1488035893</td><td>Very little total retirement income      </td></tr>\n",
              "</tbody>\n",
              "</table>\n"
            ],
            "text/markdown": "\nA tibble: 8 × 5\n\n| Year &lt;int&gt; | sum_of_total_salaries &lt;dbl&gt; | total_retirement_income &lt;dbl&gt; | total_benefits &lt;dbl&gt; | Result &lt;chr&gt; |\n|---|---|---|---|---|\n| 2013 |  5717213549 |  967740952 | 2051922816 | Very little total retirement income       |\n| 2014 |  5778318653 | 1103888583 | 2211137892 | more than minimum total retirement income |\n| 2015 |  6103876453 | 1167589218 | 2314141563 | more than minimum total retirement income |\n| 2016 |  6574743725 | 1082868131 | 2347435092 | more than minimum total retirement income |\n| 2017 | 10437181428 | 1696789927 | 3712084303 | more than minimum total retirement income |\n| 2018 |  7362455288 | 1245652936 | 2654059198 | more than minimum total retirement income |\n| 2019 |  7728803618 | 1331189668 | 2793324138 | more than minimum total retirement income |\n| 2020 |  3983192157 |  737092987 | 1488035893 | Very little total retirement income       |\n\n",
            "text/latex": "A tibble: 8 × 5\n\\begin{tabular}{lllll}\n Year & sum\\_of\\_total\\_salaries & total\\_retirement\\_income & total\\_benefits & Result\\\\\n <int> & <dbl> & <dbl> & <dbl> & <chr>\\\\\n\\hline\n\t 2013 &  5717213549 &  967740952 & 2051922816 & Very little total retirement income      \\\\\n\t 2014 &  5778318653 & 1103888583 & 2211137892 & more than minimum total retirement income\\\\\n\t 2015 &  6103876453 & 1167589218 & 2314141563 & more than minimum total retirement income\\\\\n\t 2016 &  6574743725 & 1082868131 & 2347435092 & more than minimum total retirement income\\\\\n\t 2017 & 10437181428 & 1696789927 & 3712084303 & more than minimum total retirement income\\\\\n\t 2018 &  7362455288 & 1245652936 & 2654059198 & more than minimum total retirement income\\\\\n\t 2019 &  7728803618 & 1331189668 & 2793324138 & more than minimum total retirement income\\\\\n\t 2020 &  3983192157 &  737092987 & 1488035893 & Very little total retirement income      \\\\\n\\end{tabular}\n",
            "text/plain": [
              "  Year sum_of_total_salaries total_retirement_income total_benefits\n",
              "1 2013  5717213549            967740952              2051922816    \n",
              "2 2014  5778318653           1103888583              2211137892    \n",
              "3 2015  6103876453           1167589218              2314141563    \n",
              "4 2016  6574743725           1082868131              2347435092    \n",
              "5 2017 10437181428           1696789927              3712084303    \n",
              "6 2018  7362455288           1245652936              2654059198    \n",
              "7 2019  7728803618           1331189668              2793324138    \n",
              "8 2020  3983192157            737092987              1488035893    \n",
              "  Result                                   \n",
              "1 Very little total retirement income      \n",
              "2 more than minimum total retirement income\n",
              "3 more than minimum total retirement income\n",
              "4 more than minimum total retirement income\n",
              "5 more than minimum total retirement income\n",
              "6 more than minimum total retirement income\n",
              "7 more than minimum total retirement income\n",
              "8 Very little total retirement income      "
            ]
          },
          "metadata": {}
        }
      ]
    },
    {
      "cell_type": "markdown",
      "source": [
        "##Loops"
      ],
      "metadata": {
        "id": "y6n6QVTKCndd"
      }
    },
    {
      "cell_type": "markdown",
      "source": [
        "- A while loop to print number of year less than 2020 from 2014 until break statement reached."
      ],
      "metadata": {
        "id": "oIHRXmXFkk0v"
      }
    },
    {
      "cell_type": "code",
      "source": [
        "min = 2014\n",
        " \n",
        "# using while loop\n",
        "while (min <= 2020)\n",
        "{\n",
        "    # statements\n",
        "    print(min)\n",
        "    if (min == 2019)\n",
        "    break\n",
        "    min = min + 1\n",
        "}"
      ],
      "metadata": {
        "colab": {
          "base_uri": "https://localhost:8080/"
        },
        "id": "J5iTdzHTE1Nb",
        "outputId": "a1b5fb9b-719b-4a58-8f9d-314c0fc01a67"
      },
      "execution_count": null,
      "outputs": [
        {
          "output_type": "stream",
          "name": "stdout",
          "text": [
            "[1] 2014\n",
            "[1] 2015\n",
            "[1] 2016\n",
            "[1] 2017\n",
            "[1] 2018\n",
            "[1] 2019\n"
          ]
        }
      ]
    },
    {
      "cell_type": "markdown",
      "source": [
        "- In the below cell I have compared salary and compensation columns to find which of them was over powered using the if else statement restricting it to only 30 outputs."
      ],
      "metadata": {
        "id": "9jEmtXwb92u4"
      }
    },
    {
      "cell_type": "code",
      "source": [
        "results = ifelse(df$Salaries > df$Total.Compensation, 'salary ',\n",
        "                      ifelse(df$Salaries < df$Total.Compensation, 'compesation', 'None'))\n",
        "  \n",
        "  \n",
        "# display\n",
        "head(results,30)\n"
      ],
      "metadata": {
        "colab": {
          "base_uri": "https://localhost:8080/",
          "height": 69
        },
        "id": "g4PztjkaqTKx",
        "outputId": "a514ada8-fa53-4c91-d10b-6b3c8e5e254c"
      },
      "execution_count": null,
      "outputs": [
        {
          "output_type": "display_data",
          "data": {
            "text/html": [
              "<style>\n",
              ".list-inline {list-style: none; margin:0; padding: 0}\n",
              ".list-inline>li {display: inline-block}\n",
              ".list-inline>li:not(:last-child)::after {content: \"\\00b7\"; padding: 0 .5ex}\n",
              "</style>\n",
              "<ol class=list-inline><li>'compesation'</li><li>'compesation'</li><li>'compesation'</li><li>'compesation'</li><li>'compesation'</li><li>'compesation'</li><li>'compesation'</li><li>'compesation'</li><li>'compesation'</li><li>'compesation'</li><li>'compesation'</li><li>'compesation'</li><li>'compesation'</li><li>'compesation'</li><li>'compesation'</li><li>'compesation'</li><li>'compesation'</li><li>'compesation'</li><li>'compesation'</li><li>'compesation'</li><li>'compesation'</li><li>'compesation'</li><li>'compesation'</li><li>'compesation'</li><li>'compesation'</li><li>'compesation'</li><li>'compesation'</li><li>'compesation'</li><li>'compesation'</li><li>'compesation'</li></ol>\n"
            ],
            "text/markdown": "1. 'compesation'\n2. 'compesation'\n3. 'compesation'\n4. 'compesation'\n5. 'compesation'\n6. 'compesation'\n7. 'compesation'\n8. 'compesation'\n9. 'compesation'\n10. 'compesation'\n11. 'compesation'\n12. 'compesation'\n13. 'compesation'\n14. 'compesation'\n15. 'compesation'\n16. 'compesation'\n17. 'compesation'\n18. 'compesation'\n19. 'compesation'\n20. 'compesation'\n21. 'compesation'\n22. 'compesation'\n23. 'compesation'\n24. 'compesation'\n25. 'compesation'\n26. 'compesation'\n27. 'compesation'\n28. 'compesation'\n29. 'compesation'\n30. 'compesation'\n\n\n",
            "text/latex": "\\begin{enumerate*}\n\\item 'compesation'\n\\item 'compesation'\n\\item 'compesation'\n\\item 'compesation'\n\\item 'compesation'\n\\item 'compesation'\n\\item 'compesation'\n\\item 'compesation'\n\\item 'compesation'\n\\item 'compesation'\n\\item 'compesation'\n\\item 'compesation'\n\\item 'compesation'\n\\item 'compesation'\n\\item 'compesation'\n\\item 'compesation'\n\\item 'compesation'\n\\item 'compesation'\n\\item 'compesation'\n\\item 'compesation'\n\\item 'compesation'\n\\item 'compesation'\n\\item 'compesation'\n\\item 'compesation'\n\\item 'compesation'\n\\item 'compesation'\n\\item 'compesation'\n\\item 'compesation'\n\\item 'compesation'\n\\item 'compesation'\n\\end{enumerate*}\n",
            "text/plain": [
              " [1] \"compesation\" \"compesation\" \"compesation\" \"compesation\" \"compesation\"\n",
              " [6] \"compesation\" \"compesation\" \"compesation\" \"compesation\" \"compesation\"\n",
              "[11] \"compesation\" \"compesation\" \"compesation\" \"compesation\" \"compesation\"\n",
              "[16] \"compesation\" \"compesation\" \"compesation\" \"compesation\" \"compesation\"\n",
              "[21] \"compesation\" \"compesation\" \"compesation\" \"compesation\" \"compesation\"\n",
              "[26] \"compesation\" \"compesation\" \"compesation\" \"compesation\" \"compesation\""
            ]
          },
          "metadata": {}
        }
      ]
    },
    {
      "cell_type": "markdown",
      "source": [
        "##Summary"
      ],
      "metadata": {
        "id": "qSJvsd0m9t3S"
      }
    },
    {
      "cell_type": "code",
      "source": [
        "df[which.max(df$Salaries),c(5,6,8,13,21)]"
      ],
      "metadata": {
        "id": "quMBff4UWwdR",
        "colab": {
          "base_uri": "https://localhost:8080/",
          "height": 129
        },
        "outputId": "0034e440-d824-4bae-f4b1-9bb2236cf101"
      },
      "execution_count": null,
      "outputs": [
        {
          "output_type": "display_data",
          "data": {
            "text/html": [
              "<table class=\"dataframe\">\n",
              "<caption>A data.frame: 1 × 5</caption>\n",
              "<thead>\n",
              "\t<tr><th></th><th scope=col>Year</th><th scope=col>Organization.Group</th><th scope=col>Department</th><th scope=col>Salaries</th><th scope=col>Total.Compensation</th></tr>\n",
              "\t<tr><th></th><th scope=col>&lt;int&gt;</th><th scope=col>&lt;chr&gt;</th><th scope=col>&lt;chr&gt;</th><th scope=col>&lt;dbl&gt;</th><th scope=col>&lt;dbl&gt;</th></tr>\n",
              "</thead>\n",
              "<tbody>\n",
              "\t<tr><th scope=row>602864</th><td>2019</td><td>Public Protection</td><td>Police</td><td>651936.7</td><td>807625.2</td></tr>\n",
              "</tbody>\n",
              "</table>\n"
            ],
            "text/markdown": "\nA data.frame: 1 × 5\n\n| <!--/--> | Year &lt;int&gt; | Organization.Group &lt;chr&gt; | Department &lt;chr&gt; | Salaries &lt;dbl&gt; | Total.Compensation &lt;dbl&gt; |\n|---|---|---|---|---|---|\n| 602864 | 2019 | Public Protection | Police | 651936.7 | 807625.2 |\n\n",
            "text/latex": "A data.frame: 1 × 5\n\\begin{tabular}{r|lllll}\n  & Year & Organization.Group & Department & Salaries & Total.Compensation\\\\\n  & <int> & <chr> & <chr> & <dbl> & <dbl>\\\\\n\\hline\n\t602864 & 2019 & Public Protection & Police & 651936.7 & 807625.2\\\\\n\\end{tabular}\n",
            "text/plain": [
              "       Year Organization.Group Department Salaries Total.Compensation\n",
              "602864 2019 Public Protection  Police     651936.7 807625.2          "
            ]
          },
          "metadata": {}
        }
      ]
    },
    {
      "cell_type": "code",
      "source": [
        " # library\n",
        "library(ggplot2)\n",
        "\n",
        "\n",
        "ggplot(grp_year, aes(y = total_salaries, x=Year)) + \n",
        "    geom_bar(fill=\"blue\", position=\"dodge\", stat=\"identity\")"
      ],
      "metadata": {
        "colab": {
          "base_uri": "https://localhost:8080/",
          "height": 437
        },
        "id": "aJI470Q8AqU7",
        "outputId": "8322dd73-68ab-4489-8f55-f5d2a045a001"
      },
      "execution_count": null,
      "outputs": [
        {
          "output_type": "display_data",
          "data": {
            "text/plain": [
              "plot without title"
            ],
            "image/png": "[encoded data removed]"
          },
          "metadata": {
            "image/png": {
              "width": 420,
              "height": 420
            }
          }
        }
      ]
    },
    {
      "cell_type": "code",
      "source": [
        "ggplot(grp_year, aes(y = total_benefits, x=Year)) + \n",
        "    geom_bar(fill=\"orange\", position=\"dodge\", stat=\"identity\")"
      ],
      "metadata": {
        "colab": {
          "base_uri": "https://localhost:8080/",
          "height": 437
        },
        "id": "VrnUE6XRFO_Y",
        "outputId": "9e7c851e-a5d9-4e85-b18e-71a368d175ff"
      },
      "execution_count": null,
      "outputs": [
        {
          "output_type": "display_data",
          "data": {
            "text/plain": [
              "plot without title"
            ],
            "image/png": "[encoded data removed]"
          },
          "metadata": {
            "image/png": {
              "width": 420,
              "height": 420
            }
          }
        }
      ]
    },
    {
      "cell_type": "code",
      "source": [
        "ggpairs(grp_year)"
      ],
      "metadata": {
        "colab": {
          "base_uri": "https://localhost:8080/",
          "height": 437
        },
        "id": "DC_jHf7gRSVv",
        "outputId": "96c42c27-9d41-47e1-b361-beacd997839e"
      },
      "execution_count": null,
      "outputs": [
        {
          "output_type": "display_data",
          "data": {
            "text/plain": [
              "plot without title"
            ],
            "image/png": "[encoded data removed]"
          },
          "metadata": {
            "image/png": {
              "width": 420,
              "height": 420
            }
          }
        }
      ]
    },
    {
      "cell_type": "code",
      "source": [
        "plot(grp_job.family)"
      ],
      "metadata": {
        "colab": {
          "base_uri": "https://localhost:8080/",
          "height": 437
        },
        "id": "Kp8Q4cR-SDM8",
        "outputId": "72950665-8137-4d1c-e971-8b9eb845e1f7"
      },
      "execution_count": null,
      "outputs": [
        {
          "output_type": "display_data",
          "data": {
            "text/plain": [
              "plot without title"
            ],
            "image/png": "[encoded data removed]"
          },
          "metadata": {
            "image/png": {
              "width": 420,
              "height": 420
            }
          }
        }
      ]
    },
    {
      "cell_type": "markdown",
      "source": [
        "- As it can be noticed from the above charts that the highest total salary, benefits, compenseation were all in the year 2017.\n",
        "The graph follows an upwards trend while boosting on year 2017 but there is a drastic decline in the year 2020.\n",
        "- After intense summarising the data it can be noted that in 2019 Police department recieved the highest salary amongest all of 651936.7 and Total Compensation of 807625.2 \n",
        "- From grp_job data frame it can be noted that there are more people as Transit operator than any other profession.\n",
        "- From grp_job.famlity data frame it can be seen that nursing profession holds the highest total salaries received as well as the benefits for the year 2017. While people working in Administrative Secretarial department received the lowest salary and the benefits.\n",
        "- As it can be seen that there is a postive correlation among all the columns in the grp_year data frame, which indicates that as a person's salary increases his benefits and total compensation also increases. \n",
        "- "
      ],
      "metadata": {
        "id": "vf-BuSbXJF9J"
      }
    },
    {
      "cell_type": "markdown",
      "source": [
        "##Recommendation"
      ],
      "metadata": {
        "id": "b6WX1iAo9xVZ"
      }
    },
    {
      "cell_type": "markdown",
      "source": [
        "- There is a drastic decline in salaries and benefits provided to the people of San Francisco in the year 2020, this means that when covid-19 struck San Francisco there were plenty of jobs that were lost as a result total salary, benefits and compensation were all reduced from all the previuos years.\n",
        "- Overall income of people in service sector is higher meaning they are able to afford all the expenses of the city. \n",
        "- Overall the cost of living in the city is high but with people in transit operator or in nurse have more benefits and compensation so its affordable."
      ],
      "metadata": {
        "id": "E80eVhYfwBoq"
      }
    }
  ]
}
